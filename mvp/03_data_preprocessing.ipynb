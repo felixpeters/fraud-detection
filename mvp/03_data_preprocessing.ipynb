{
 "cells": [
  {
   "attachments": {},
   "cell_type": "markdown",
   "metadata": {},
   "source": [
    "# Data preprocessing"
   ]
  },
  {
   "attachments": {},
   "cell_type": "markdown",
   "metadata": {},
   "source": [
    "**Inputs:**\n",
    "\n",
    "- Configuration file\n",
    "- Raw data\n",
    "\n",
    "**Steps:**\n",
    "\n",
    "- Load configuration\n",
    "- Load raw data\n",
    "- Clean data\n",
    "- Split data into training, validation, and test sets\n",
    "- Engineer features\n",
    "- Save data\n",
    "\n",
    "**Outputs:**\n",
    "\n",
    "- Training data\n",
    "- Validation data\n",
    "- Test data\n"
   ]
  },
  {
   "attachments": {},
   "cell_type": "markdown",
   "metadata": {},
   "source": []
  }
 ],
 "metadata": {
  "language_info": {
   "name": "python"
  },
  "orig_nbformat": 4
 },
 "nbformat": 4,
 "nbformat_minor": 2
}
