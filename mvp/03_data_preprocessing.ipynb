{
 "cells": [
  {
   "attachments": {},
   "cell_type": "markdown",
   "metadata": {},
   "source": [
    "# Data preprocessing"
   ]
  },
  {
   "attachments": {},
   "cell_type": "markdown",
   "metadata": {},
   "source": [
    "**Inputs:**\n",
    "\n",
    "- Configuration file\n",
    "- Raw data\n",
    "\n",
    "**Steps:**\n",
    "\n",
    "- Load configuration\n",
    "- Load raw data\n",
    "- Clean data\n",
    "- Split data into training, validation, and test sets\n",
    "- Engineer features\n",
    "- Save data\n",
    "\n",
    "**Outputs:**\n",
    "\n",
    "- Training data\n",
    "- Validation data\n",
    "- Test data\n"
   ]
  },
  {
   "attachments": {},
   "cell_type": "markdown",
   "metadata": {},
   "source": [
    "## Setup"
   ]
  },
  {
   "cell_type": "code",
   "execution_count": 1,
   "metadata": {},
   "outputs": [],
   "source": [
    "%load_ext autoreload\n",
    "%autoreload 2"
   ]
  },
  {
   "cell_type": "code",
   "execution_count": 20,
   "metadata": {},
   "outputs": [
    {
     "data": {
      "text/plain": [
       "True"
      ]
     },
     "execution_count": 20,
     "metadata": {},
     "output_type": "execute_result"
    }
   ],
   "source": [
    "from pathlib import Path\n",
    "from dotenv import load_dotenv\n",
    "from src.utils import load_config\n",
    "\n",
    "config_path = Path.cwd() / \"config.yaml\"\n",
    "config = load_config(config_path)\n",
    "\n",
    "load_dotenv()"
   ]
  },
  {
   "cell_type": "markdown",
   "metadata": {},
   "source": [
    "## Step 1: Load data"
   ]
  },
  {
   "cell_type": "code",
   "execution_count": 3,
   "metadata": {},
   "outputs": [
    {
     "name": "stdout",
     "output_type": "stream",
     "text": [
      "(1754155, 9)\n",
      "(5000, 8)\n",
      "(10000, 3)\n"
     ]
    }
   ],
   "source": [
    "import pandas as pd\n",
    "\n",
    "data_dir = Path.cwd().parent / 'data'\n",
    "proc_dir = data_dir / 'processed'\n",
    "\n",
    "tx_df = pd.read_csv(proc_dir / \"transactions.csv\")\n",
    "print(tx_df.shape)\n",
    "cust_df = pd.read_csv(proc_dir / \"customers.csv\")\n",
    "print(cust_df.shape)\n",
    "term_df = pd.read_csv(proc_dir / \"terminals.csv\")\n",
    "print(term_df.shape)"
   ]
  },
  {
   "cell_type": "code",
   "execution_count": 14,
   "metadata": {},
   "outputs": [],
   "source": [
    "tx_df.tx_datetime = pd.to_datetime(tx_df.tx_datetime)"
   ]
  },
  {
   "cell_type": "markdown",
   "metadata": {},
   "source": [
    "## Step 2: Create date and time features"
   ]
  },
  {
   "cell_type": "code",
   "execution_count": 15,
   "metadata": {},
   "outputs": [],
   "source": [
    "from src.data.features import is_weekend\n",
    "\n",
    "tx_df[\"tx_during_weekend\"] = tx_df.tx_datetime.apply(is_weekend)"
   ]
  },
  {
   "cell_type": "code",
   "execution_count": 16,
   "metadata": {},
   "outputs": [],
   "source": [
    "from src.data.features import is_night\n",
    "\n",
    "tx_df[\"tx_during_night\"] = tx_df.tx_datetime.apply(is_night)"
   ]
  },
  {
   "cell_type": "markdown",
   "metadata": {},
   "source": [
    "## Step 3: Create customer features"
   ]
  },
  {
   "cell_type": "code",
   "execution_count": 17,
   "metadata": {},
   "outputs": [],
   "source": [
    "from src.data.features import get_customer_spending_features\n",
    "\n",
    "WINDOW_SIZES = config[\"data\"][\"features\"][\"window_sizes\"]\n",
    "\n",
    "tx_df = tx_df.groupby(\"customer_id\").apply(lambda x: get_customer_spending_features(x, window_sizes=WINDOW_SIZES))"
   ]
  },
  {
   "cell_type": "code",
   "execution_count": 19,
   "metadata": {},
   "outputs": [
    {
     "data": {
      "text/html": [
       "<div>\n",
       "<style scoped>\n",
       "    .dataframe tbody tr th:only-of-type {\n",
       "        vertical-align: middle;\n",
       "    }\n",
       "\n",
       "    .dataframe tbody tr th {\n",
       "        vertical-align: top;\n",
       "    }\n",
       "\n",
       "    .dataframe thead th {\n",
       "        text-align: right;\n",
       "    }\n",
       "</style>\n",
       "<table border=\"1\" class=\"dataframe\">\n",
       "  <thead>\n",
       "    <tr style=\"text-align: right;\">\n",
       "      <th></th>\n",
       "      <th>transaction_id</th>\n",
       "      <th>tx_datetime</th>\n",
       "      <th>customer_id</th>\n",
       "      <th>terminal_id</th>\n",
       "      <th>tx_amount</th>\n",
       "      <th>tx_time_seconds</th>\n",
       "      <th>tx_time_days</th>\n",
       "      <th>tx_fraud</th>\n",
       "      <th>tx_fraud_scenario</th>\n",
       "      <th>tx_during_weekend</th>\n",
       "      <th>tx_during_night</th>\n",
       "      <th>customer_id_nb_tx_1_day_window</th>\n",
       "      <th>customer_id_avg_amount_1_day_window</th>\n",
       "      <th>customer_id_nb_tx_7_day_window</th>\n",
       "      <th>customer_id_avg_amount_7_day_window</th>\n",
       "      <th>customer_id_nb_tx_30_day_window</th>\n",
       "      <th>customer_id_avg_amount_30_day_window</th>\n",
       "    </tr>\n",
       "  </thead>\n",
       "  <tbody>\n",
       "    <tr>\n",
       "      <th>1754150</th>\n",
       "      <td>1754150</td>\n",
       "      <td>2023-08-02 23:56:36</td>\n",
       "      <td>161</td>\n",
       "      <td>655</td>\n",
       "      <td>54.24</td>\n",
       "      <td>15810996</td>\n",
       "      <td>182</td>\n",
       "      <td>0</td>\n",
       "      <td>0</td>\n",
       "      <td>0</td>\n",
       "      <td>0</td>\n",
       "      <td>2.0</td>\n",
       "      <td>75.280000</td>\n",
       "      <td>12.0</td>\n",
       "      <td>67.047500</td>\n",
       "      <td>72.0</td>\n",
       "      <td>69.521111</td>\n",
       "    </tr>\n",
       "    <tr>\n",
       "      <th>1754151</th>\n",
       "      <td>1754151</td>\n",
       "      <td>2023-08-02 23:57:38</td>\n",
       "      <td>4342</td>\n",
       "      <td>6181</td>\n",
       "      <td>1.23</td>\n",
       "      <td>15811058</td>\n",
       "      <td>182</td>\n",
       "      <td>0</td>\n",
       "      <td>0</td>\n",
       "      <td>0</td>\n",
       "      <td>0</td>\n",
       "      <td>1.0</td>\n",
       "      <td>1.230000</td>\n",
       "      <td>21.0</td>\n",
       "      <td>22.173810</td>\n",
       "      <td>93.0</td>\n",
       "      <td>24.780753</td>\n",
       "    </tr>\n",
       "    <tr>\n",
       "      <th>1754152</th>\n",
       "      <td>1754152</td>\n",
       "      <td>2023-08-02 23:58:21</td>\n",
       "      <td>618</td>\n",
       "      <td>1502</td>\n",
       "      <td>6.62</td>\n",
       "      <td>15811101</td>\n",
       "      <td>182</td>\n",
       "      <td>0</td>\n",
       "      <td>0</td>\n",
       "      <td>0</td>\n",
       "      <td>0</td>\n",
       "      <td>5.0</td>\n",
       "      <td>7.368000</td>\n",
       "      <td>21.0</td>\n",
       "      <td>7.400476</td>\n",
       "      <td>65.0</td>\n",
       "      <td>7.864462</td>\n",
       "    </tr>\n",
       "    <tr>\n",
       "      <th>1754153</th>\n",
       "      <td>1754153</td>\n",
       "      <td>2023-08-02 23:59:52</td>\n",
       "      <td>4056</td>\n",
       "      <td>3067</td>\n",
       "      <td>55.40</td>\n",
       "      <td>15811192</td>\n",
       "      <td>182</td>\n",
       "      <td>0</td>\n",
       "      <td>0</td>\n",
       "      <td>0</td>\n",
       "      <td>0</td>\n",
       "      <td>3.0</td>\n",
       "      <td>100.696667</td>\n",
       "      <td>16.0</td>\n",
       "      <td>107.052500</td>\n",
       "      <td>51.0</td>\n",
       "      <td>102.919608</td>\n",
       "    </tr>\n",
       "    <tr>\n",
       "      <th>1754154</th>\n",
       "      <td>1754154</td>\n",
       "      <td>2023-08-02 23:59:57</td>\n",
       "      <td>3542</td>\n",
       "      <td>9849</td>\n",
       "      <td>23.59</td>\n",
       "      <td>15811197</td>\n",
       "      <td>182</td>\n",
       "      <td>0</td>\n",
       "      <td>0</td>\n",
       "      <td>0</td>\n",
       "      <td>0</td>\n",
       "      <td>5.0</td>\n",
       "      <td>41.304000</td>\n",
       "      <td>24.0</td>\n",
       "      <td>35.308333</td>\n",
       "      <td>119.0</td>\n",
       "      <td>37.251513</td>\n",
       "    </tr>\n",
       "  </tbody>\n",
       "</table>\n",
       "</div>"
      ],
      "text/plain": [
       "         transaction_id         tx_datetime  customer_id  terminal_id  \\\n",
       "1754150         1754150 2023-08-02 23:56:36          161          655   \n",
       "1754151         1754151 2023-08-02 23:57:38         4342         6181   \n",
       "1754152         1754152 2023-08-02 23:58:21          618         1502   \n",
       "1754153         1754153 2023-08-02 23:59:52         4056         3067   \n",
       "1754154         1754154 2023-08-02 23:59:57         3542         9849   \n",
       "\n",
       "         tx_amount  tx_time_seconds  tx_time_days  tx_fraud  \\\n",
       "1754150      54.24         15810996           182         0   \n",
       "1754151       1.23         15811058           182         0   \n",
       "1754152       6.62         15811101           182         0   \n",
       "1754153      55.40         15811192           182         0   \n",
       "1754154      23.59         15811197           182         0   \n",
       "\n",
       "         tx_fraud_scenario  tx_during_weekend  tx_during_night  \\\n",
       "1754150                  0                  0                0   \n",
       "1754151                  0                  0                0   \n",
       "1754152                  0                  0                0   \n",
       "1754153                  0                  0                0   \n",
       "1754154                  0                  0                0   \n",
       "\n",
       "         customer_id_nb_tx_1_day_window  customer_id_avg_amount_1_day_window  \\\n",
       "1754150                             2.0                            75.280000   \n",
       "1754151                             1.0                             1.230000   \n",
       "1754152                             5.0                             7.368000   \n",
       "1754153                             3.0                           100.696667   \n",
       "1754154                             5.0                            41.304000   \n",
       "\n",
       "         customer_id_nb_tx_7_day_window  customer_id_avg_amount_7_day_window  \\\n",
       "1754150                            12.0                            67.047500   \n",
       "1754151                            21.0                            22.173810   \n",
       "1754152                            21.0                             7.400476   \n",
       "1754153                            16.0                           107.052500   \n",
       "1754154                            24.0                            35.308333   \n",
       "\n",
       "         customer_id_nb_tx_30_day_window  customer_id_avg_amount_30_day_window  \n",
       "1754150                             72.0                             69.521111  \n",
       "1754151                             93.0                             24.780753  \n",
       "1754152                             65.0                              7.864462  \n",
       "1754153                             51.0                            102.919608  \n",
       "1754154                            119.0                             37.251513  "
      ]
     },
     "execution_count": 19,
     "metadata": {},
     "output_type": "execute_result"
    }
   ],
   "source": [
    "tx_df = tx_df.sort_values('tx_datetime').reset_index(drop=True)\n",
    "tx_df.tail()"
   ]
  },
  {
   "cell_type": "markdown",
   "metadata": {},
   "source": [
    "## Step 4: Create terminal features"
   ]
  },
  {
   "cell_type": "code",
   "execution_count": 21,
   "metadata": {},
   "outputs": [],
   "source": [
    "from src.data.features import get_terminal_risk_features\n",
    "\n",
    "DELAY_PERIOD = config[\"data\"][\"features\"][\"delay_period\"]\n",
    "\n",
    "tx_df = tx_df.groupby(\"terminal_id\").apply(lambda x: get_terminal_risk_features(x, delay_period=DELAY_PERIOD, window_sizes=WINDOW_SIZES))\n",
    "tx_df=tx_df.sort_values('tx_datetime').reset_index(drop=True)"
   ]
  },
  {
   "cell_type": "code",
   "execution_count": 22,
   "metadata": {},
   "outputs": [
    {
     "data": {
      "text/html": [
       "<div>\n",
       "<style scoped>\n",
       "    .dataframe tbody tr th:only-of-type {\n",
       "        vertical-align: middle;\n",
       "    }\n",
       "\n",
       "    .dataframe tbody tr th {\n",
       "        vertical-align: top;\n",
       "    }\n",
       "\n",
       "    .dataframe thead th {\n",
       "        text-align: right;\n",
       "    }\n",
       "</style>\n",
       "<table border=\"1\" class=\"dataframe\">\n",
       "  <thead>\n",
       "    <tr style=\"text-align: right;\">\n",
       "      <th></th>\n",
       "      <th>transaction_id</th>\n",
       "      <th>tx_datetime</th>\n",
       "      <th>customer_id</th>\n",
       "      <th>terminal_id</th>\n",
       "      <th>tx_amount</th>\n",
       "      <th>tx_time_seconds</th>\n",
       "      <th>tx_time_days</th>\n",
       "      <th>tx_fraud</th>\n",
       "      <th>tx_fraud_scenario</th>\n",
       "      <th>tx_during_weekend</th>\n",
       "      <th>...</th>\n",
       "      <th>customer_id_nb_tx_7_day_window</th>\n",
       "      <th>customer_id_avg_amount_7_day_window</th>\n",
       "      <th>customer_id_nb_tx_30_day_window</th>\n",
       "      <th>customer_id_avg_amount_30_day_window</th>\n",
       "      <th>terminal_id_nb_tx_1_day_window</th>\n",
       "      <th>terminal_id_risk_1_day_window</th>\n",
       "      <th>terminal_id_nb_tx_7_day_window</th>\n",
       "      <th>terminal_id_risk_7_day_window</th>\n",
       "      <th>terminal_id_nb_tx_30_day_window</th>\n",
       "      <th>terminal_id_risk_30_day_window</th>\n",
       "    </tr>\n",
       "  </thead>\n",
       "  <tbody>\n",
       "    <tr>\n",
       "      <th>1754150</th>\n",
       "      <td>1754150</td>\n",
       "      <td>2023-08-02 23:56:36</td>\n",
       "      <td>161</td>\n",
       "      <td>655</td>\n",
       "      <td>54.24</td>\n",
       "      <td>15810996</td>\n",
       "      <td>182</td>\n",
       "      <td>0</td>\n",
       "      <td>0</td>\n",
       "      <td>0</td>\n",
       "      <td>...</td>\n",
       "      <td>12.0</td>\n",
       "      <td>67.047500</td>\n",
       "      <td>72.0</td>\n",
       "      <td>69.521111</td>\n",
       "      <td>1.0</td>\n",
       "      <td>0.0</td>\n",
       "      <td>4.0</td>\n",
       "      <td>0.0</td>\n",
       "      <td>28.0</td>\n",
       "      <td>0.00000</td>\n",
       "    </tr>\n",
       "    <tr>\n",
       "      <th>1754151</th>\n",
       "      <td>1754151</td>\n",
       "      <td>2023-08-02 23:57:38</td>\n",
       "      <td>4342</td>\n",
       "      <td>6181</td>\n",
       "      <td>1.23</td>\n",
       "      <td>15811058</td>\n",
       "      <td>182</td>\n",
       "      <td>0</td>\n",
       "      <td>0</td>\n",
       "      <td>0</td>\n",
       "      <td>...</td>\n",
       "      <td>21.0</td>\n",
       "      <td>22.173810</td>\n",
       "      <td>93.0</td>\n",
       "      <td>24.780753</td>\n",
       "      <td>1.0</td>\n",
       "      <td>0.0</td>\n",
       "      <td>9.0</td>\n",
       "      <td>0.0</td>\n",
       "      <td>39.0</td>\n",
       "      <td>0.00000</td>\n",
       "    </tr>\n",
       "    <tr>\n",
       "      <th>1754152</th>\n",
       "      <td>1754152</td>\n",
       "      <td>2023-08-02 23:58:21</td>\n",
       "      <td>618</td>\n",
       "      <td>1502</td>\n",
       "      <td>6.62</td>\n",
       "      <td>15811101</td>\n",
       "      <td>182</td>\n",
       "      <td>0</td>\n",
       "      <td>0</td>\n",
       "      <td>0</td>\n",
       "      <td>...</td>\n",
       "      <td>21.0</td>\n",
       "      <td>7.400476</td>\n",
       "      <td>65.0</td>\n",
       "      <td>7.864462</td>\n",
       "      <td>1.0</td>\n",
       "      <td>0.0</td>\n",
       "      <td>5.0</td>\n",
       "      <td>0.0</td>\n",
       "      <td>33.0</td>\n",
       "      <td>0.00000</td>\n",
       "    </tr>\n",
       "    <tr>\n",
       "      <th>1754153</th>\n",
       "      <td>1754153</td>\n",
       "      <td>2023-08-02 23:59:52</td>\n",
       "      <td>4056</td>\n",
       "      <td>3067</td>\n",
       "      <td>55.40</td>\n",
       "      <td>15811192</td>\n",
       "      <td>182</td>\n",
       "      <td>0</td>\n",
       "      <td>0</td>\n",
       "      <td>0</td>\n",
       "      <td>...</td>\n",
       "      <td>16.0</td>\n",
       "      <td>107.052500</td>\n",
       "      <td>51.0</td>\n",
       "      <td>102.919608</td>\n",
       "      <td>1.0</td>\n",
       "      <td>0.0</td>\n",
       "      <td>6.0</td>\n",
       "      <td>0.0</td>\n",
       "      <td>28.0</td>\n",
       "      <td>0.00000</td>\n",
       "    </tr>\n",
       "    <tr>\n",
       "      <th>1754154</th>\n",
       "      <td>1754154</td>\n",
       "      <td>2023-08-02 23:59:57</td>\n",
       "      <td>3542</td>\n",
       "      <td>9849</td>\n",
       "      <td>23.59</td>\n",
       "      <td>15811197</td>\n",
       "      <td>182</td>\n",
       "      <td>0</td>\n",
       "      <td>0</td>\n",
       "      <td>0</td>\n",
       "      <td>...</td>\n",
       "      <td>24.0</td>\n",
       "      <td>35.308333</td>\n",
       "      <td>119.0</td>\n",
       "      <td>37.251513</td>\n",
       "      <td>1.0</td>\n",
       "      <td>0.0</td>\n",
       "      <td>12.0</td>\n",
       "      <td>0.0</td>\n",
       "      <td>41.0</td>\n",
       "      <td>0.02439</td>\n",
       "    </tr>\n",
       "  </tbody>\n",
       "</table>\n",
       "<p>5 rows × 23 columns</p>\n",
       "</div>"
      ],
      "text/plain": [
       "         transaction_id         tx_datetime  customer_id  terminal_id  \\\n",
       "1754150         1754150 2023-08-02 23:56:36          161          655   \n",
       "1754151         1754151 2023-08-02 23:57:38         4342         6181   \n",
       "1754152         1754152 2023-08-02 23:58:21          618         1502   \n",
       "1754153         1754153 2023-08-02 23:59:52         4056         3067   \n",
       "1754154         1754154 2023-08-02 23:59:57         3542         9849   \n",
       "\n",
       "         tx_amount  tx_time_seconds  tx_time_days  tx_fraud  \\\n",
       "1754150      54.24         15810996           182         0   \n",
       "1754151       1.23         15811058           182         0   \n",
       "1754152       6.62         15811101           182         0   \n",
       "1754153      55.40         15811192           182         0   \n",
       "1754154      23.59         15811197           182         0   \n",
       "\n",
       "         tx_fraud_scenario  tx_during_weekend  ...  \\\n",
       "1754150                  0                  0  ...   \n",
       "1754151                  0                  0  ...   \n",
       "1754152                  0                  0  ...   \n",
       "1754153                  0                  0  ...   \n",
       "1754154                  0                  0  ...   \n",
       "\n",
       "         customer_id_nb_tx_7_day_window  customer_id_avg_amount_7_day_window  \\\n",
       "1754150                            12.0                            67.047500   \n",
       "1754151                            21.0                            22.173810   \n",
       "1754152                            21.0                             7.400476   \n",
       "1754153                            16.0                           107.052500   \n",
       "1754154                            24.0                            35.308333   \n",
       "\n",
       "         customer_id_nb_tx_30_day_window  \\\n",
       "1754150                             72.0   \n",
       "1754151                             93.0   \n",
       "1754152                             65.0   \n",
       "1754153                             51.0   \n",
       "1754154                            119.0   \n",
       "\n",
       "         customer_id_avg_amount_30_day_window  terminal_id_nb_tx_1_day_window  \\\n",
       "1754150                             69.521111                             1.0   \n",
       "1754151                             24.780753                             1.0   \n",
       "1754152                              7.864462                             1.0   \n",
       "1754153                            102.919608                             1.0   \n",
       "1754154                             37.251513                             1.0   \n",
       "\n",
       "         terminal_id_risk_1_day_window  terminal_id_nb_tx_7_day_window  \\\n",
       "1754150                            0.0                             4.0   \n",
       "1754151                            0.0                             9.0   \n",
       "1754152                            0.0                             5.0   \n",
       "1754153                            0.0                             6.0   \n",
       "1754154                            0.0                            12.0   \n",
       "\n",
       "         terminal_id_risk_7_day_window  terminal_id_nb_tx_30_day_window  \\\n",
       "1754150                            0.0                             28.0   \n",
       "1754151                            0.0                             39.0   \n",
       "1754152                            0.0                             33.0   \n",
       "1754153                            0.0                             28.0   \n",
       "1754154                            0.0                             41.0   \n",
       "\n",
       "         terminal_id_risk_30_day_window  \n",
       "1754150                         0.00000  \n",
       "1754151                         0.00000  \n",
       "1754152                         0.00000  \n",
       "1754153                         0.00000  \n",
       "1754154                         0.02439  \n",
       "\n",
       "[5 rows x 23 columns]"
      ]
     },
     "execution_count": 22,
     "metadata": {},
     "output_type": "execute_result"
    }
   ],
   "source": [
    "tx_df.tail()"
   ]
  },
  {
   "cell_type": "markdown",
   "metadata": {},
   "source": [
    "## Step 5: Store dataset"
   ]
  },
  {
   "cell_type": "code",
   "execution_count": 24,
   "metadata": {},
   "outputs": [],
   "source": [
    "feature_dir = data_dir / \"features\"\n",
    "feature_dir.mkdir(parents=True, exist_ok=True)\n",
    "\n",
    "ds_path = feature_dir / \"transactions.csv\"\n",
    "\n",
    "tx_df.to_csv(ds_path, index=False)"
   ]
  },
  {
   "cell_type": "markdown",
   "metadata": {},
   "source": [
    "## Step 6: Track artifacts in MLOps platform"
   ]
  },
  {
   "cell_type": "code",
   "execution_count": 25,
   "metadata": {},
   "outputs": [
    {
     "name": "stderr",
     "output_type": "stream",
     "text": [
      "Failed to detect the name of this notebook, you can set it manually with the WANDB_NOTEBOOK_NAME environment variable to enable code saving.\n",
      "\u001b[34m\u001b[1mwandb\u001b[0m: Currently logged in as: \u001b[33mfelixpeters\u001b[0m. Use \u001b[1m`wandb login --relogin`\u001b[0m to force relogin\n"
     ]
    },
    {
     "data": {
      "text/html": [
       "Tracking run with wandb version 0.15.8"
      ],
      "text/plain": [
       "<IPython.core.display.HTML object>"
      ]
     },
     "metadata": {},
     "output_type": "display_data"
    },
    {
     "data": {
      "text/html": [
       "Run data is saved locally in <code>/Users/fpe/code/ml/fraud-detection/mvp/wandb/run-20230810_143539-1n2ps4zy</code>"
      ],
      "text/plain": [
       "<IPython.core.display.HTML object>"
      ]
     },
     "metadata": {},
     "output_type": "display_data"
    },
    {
     "data": {
      "text/html": [
       "Syncing run <strong><a href='https://wandb.ai/felixpeters/fraud-detection/runs/1n2ps4zy' target=\"_blank\">pious-cosmos-6</a></strong> to <a href='https://wandb.ai/felixpeters/fraud-detection' target=\"_blank\">Weights & Biases</a> (<a href='https://wandb.me/run' target=\"_blank\">docs</a>)<br/>"
      ],
      "text/plain": [
       "<IPython.core.display.HTML object>"
      ]
     },
     "metadata": {},
     "output_type": "display_data"
    },
    {
     "data": {
      "text/html": [
       " View project at <a href='https://wandb.ai/felixpeters/fraud-detection' target=\"_blank\">https://wandb.ai/felixpeters/fraud-detection</a>"
      ],
      "text/plain": [
       "<IPython.core.display.HTML object>"
      ]
     },
     "metadata": {},
     "output_type": "display_data"
    },
    {
     "data": {
      "text/html": [
       " View run at <a href='https://wandb.ai/felixpeters/fraud-detection/runs/1n2ps4zy' target=\"_blank\">https://wandb.ai/felixpeters/fraud-detection/runs/1n2ps4zy</a>"
      ],
      "text/plain": [
       "<IPython.core.display.HTML object>"
      ]
     },
     "metadata": {},
     "output_type": "display_data"
    }
   ],
   "source": [
    "import wandb\n",
    "\n",
    "run = wandb.init(project=\"fraud-detection\", job_type=\"data_preprocessing\")"
   ]
  },
  {
   "cell_type": "code",
   "execution_count": 26,
   "metadata": {},
   "outputs": [
    {
     "data": {
      "text/plain": [
       "<Artifact QXJ0aWZhY3Q6NTMyMjM4NDY4>"
      ]
     },
     "execution_count": 26,
     "metadata": {},
     "output_type": "execute_result"
    }
   ],
   "source": [
    "run.use_artifact('felixpeters/fraud-detection/raw_data:v0', type='dataset')"
   ]
  },
  {
   "cell_type": "code",
   "execution_count": 27,
   "metadata": {},
   "outputs": [],
   "source": [
    "features = wandb.Artifact(\"features\", type=\"dataset\")"
   ]
  },
  {
   "cell_type": "code",
   "execution_count": 28,
   "metadata": {},
   "outputs": [
    {
     "name": "stderr",
     "output_type": "stream",
     "text": [
      "\u001b[34m\u001b[1mwandb\u001b[0m: Adding directory to artifact (/Users/fpe/code/ml/fraud-detection/data/features)... Done. 0.8s\n"
     ]
    }
   ],
   "source": [
    "features.add_dir(str(feature_dir))"
   ]
  },
  {
   "cell_type": "code",
   "execution_count": 29,
   "metadata": {},
   "outputs": [
    {
     "data": {
      "text/plain": [
       "<Artifact features>"
      ]
     },
     "execution_count": 29,
     "metadata": {},
     "output_type": "execute_result"
    }
   ],
   "source": [
    "run.log_artifact(features)"
   ]
  },
  {
   "cell_type": "code",
   "execution_count": 30,
   "metadata": {},
   "outputs": [
    {
     "data": {
      "text/html": [
       "Waiting for W&B process to finish... <strong style=\"color:green\">(success).</strong>"
      ],
      "text/plain": [
       "<IPython.core.display.HTML object>"
      ]
     },
     "metadata": {},
     "output_type": "display_data"
    },
    {
     "name": "stderr",
     "output_type": "stream",
     "text": [
      "\u001b[34m\u001b[1mwandb\u001b[0m: \u001b[32m\u001b[41mERROR\u001b[0m Control-C detected -- Run data was not synced\n"
     ]
    }
   ],
   "source": [
    "run.finish()"
   ]
  },
  {
   "cell_type": "code",
   "execution_count": null,
   "metadata": {},
   "outputs": [],
   "source": []
  }
 ],
 "metadata": {
  "kernelspec": {
   "display_name": ".venv",
   "language": "python",
   "name": "python3"
  },
  "language_info": {
   "codemirror_mode": {
    "name": "ipython",
    "version": 3
   },
   "file_extension": ".py",
   "mimetype": "text/x-python",
   "name": "python",
   "nbconvert_exporter": "python",
   "pygments_lexer": "ipython3",
   "version": "3.10.3"
  },
  "orig_nbformat": 4
 },
 "nbformat": 4,
 "nbformat_minor": 2
}
