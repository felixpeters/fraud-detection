{
 "cells": [
  {
   "cell_type": "markdown",
   "metadata": {},
   "source": [
    "# Data generation through simulation of credit card transactions"
   ]
  },
  {
   "cell_type": "markdown",
   "metadata": {},
   "source": [
    "## Data generation process"
   ]
  },
  {
   "cell_type": "markdown",
   "metadata": {},
   "source": [
    "The simulation will consist of five main steps (follows this [book chapter](https://fraud-detection-handbook.github.io/fraud-detection-handbook/Chapter_3_GettingStarted/SimulatedDataset.html)):\n",
    "\n",
    "1. **Generation of customer profiles:** Every customer is different in their spending habits. This will be simulated by defining some properties for each customer. The main properties will be their geographical location, their spending frequency, and their spending amounts. The customer properties will be represented as a table, referred to as the customer profile table.\n",
    "\n",
    "2. **Generation of terminal profiles:** Terminal properties will simply consist of a geographical location. The terminal properties will be represented as a table, referred to as the terminal profile table.\n",
    "\n",
    "3. **Association of customer profiles to terminals:** We will assume that customers only make transactions on terminals that are within a radius of of their geographical locations. This makes the simple assumption that a customer only makes transactions on terminals that are geographically close to their location. This step will consist of adding a feature ‘list_terminals’ to each customer profile, that contains the set of terminals that a customer can use.\n",
    "\n",
    "4. **Generation of transactions:** The simulator will loop over the set of customer profiles, and generate transactions according to their properties (spending frequencies and amounts, and available terminals). This will result in a table of transactions.\n",
    "\n",
    "5. **Generation of fraud scenarios:** This last step will label the transactions as legitimate or genuine. This will be done by following three different fraud scenarios."
   ]
  },
  {
   "cell_type": "markdown",
   "metadata": {},
   "source": [
    "## Setup"
   ]
  },
  {
   "cell_type": "code",
   "execution_count": 1,
   "metadata": {},
   "outputs": [],
   "source": [
    "%load_ext autoreload\n",
    "%autoreload 2"
   ]
  },
  {
   "cell_type": "code",
   "execution_count": 36,
   "metadata": {},
   "outputs": [
    {
     "data": {
      "text/plain": [
       "True"
      ]
     },
     "execution_count": 36,
     "metadata": {},
     "output_type": "execute_result"
    }
   ],
   "source": [
    "from pathlib import Path\n",
    "from src.utils import load_config\n",
    "\n",
    "config_path = Path.cwd() / \"config.yaml\"\n",
    "config_path.exists()"
   ]
  },
  {
   "cell_type": "code",
   "execution_count": 38,
   "metadata": {},
   "outputs": [],
   "source": [
    "config = load_config(config_path)"
   ]
  },
  {
   "cell_type": "markdown",
   "metadata": {},
   "source": [
    "## Step 1: Generate customer profiles"
   ]
  },
  {
   "cell_type": "code",
   "execution_count": 2,
   "metadata": {},
   "outputs": [],
   "source": [
    "from src.data.generator import generate_customer_profiles_table"
   ]
  },
  {
   "cell_type": "code",
   "execution_count": 13,
   "metadata": {},
   "outputs": [
    {
     "data": {
      "text/html": [
       "<div>\n",
       "<style scoped>\n",
       "    .dataframe tbody tr th:only-of-type {\n",
       "        vertical-align: middle;\n",
       "    }\n",
       "\n",
       "    .dataframe tbody tr th {\n",
       "        vertical-align: top;\n",
       "    }\n",
       "\n",
       "    .dataframe thead th {\n",
       "        text-align: right;\n",
       "    }\n",
       "</style>\n",
       "<table border=\"1\" class=\"dataframe\">\n",
       "  <thead>\n",
       "    <tr style=\"text-align: right;\">\n",
       "      <th></th>\n",
       "      <th>customer_id</th>\n",
       "      <th>loc_long_coord</th>\n",
       "      <th>loc_lat_coord</th>\n",
       "      <th>mean_amount</th>\n",
       "      <th>std_amount</th>\n",
       "      <th>mean_nb_tx_per_day</th>\n",
       "    </tr>\n",
       "  </thead>\n",
       "  <tbody>\n",
       "    <tr>\n",
       "      <th>0</th>\n",
       "      <td>0</td>\n",
       "      <td>54.881350</td>\n",
       "      <td>71.518937</td>\n",
       "      <td>62.262521</td>\n",
       "      <td>31.131260</td>\n",
       "      <td>2.179533</td>\n",
       "    </tr>\n",
       "    <tr>\n",
       "      <th>1</th>\n",
       "      <td>1</td>\n",
       "      <td>42.365480</td>\n",
       "      <td>64.589411</td>\n",
       "      <td>46.570785</td>\n",
       "      <td>23.285393</td>\n",
       "      <td>3.567092</td>\n",
       "    </tr>\n",
       "    <tr>\n",
       "      <th>2</th>\n",
       "      <td>2</td>\n",
       "      <td>96.366276</td>\n",
       "      <td>38.344152</td>\n",
       "      <td>80.213879</td>\n",
       "      <td>40.106939</td>\n",
       "      <td>2.115580</td>\n",
       "    </tr>\n",
       "    <tr>\n",
       "      <th>3</th>\n",
       "      <td>3</td>\n",
       "      <td>56.804456</td>\n",
       "      <td>92.559664</td>\n",
       "      <td>11.748426</td>\n",
       "      <td>5.874213</td>\n",
       "      <td>0.348517</td>\n",
       "    </tr>\n",
       "    <tr>\n",
       "      <th>4</th>\n",
       "      <td>4</td>\n",
       "      <td>2.021840</td>\n",
       "      <td>83.261985</td>\n",
       "      <td>78.924891</td>\n",
       "      <td>39.462446</td>\n",
       "      <td>3.480049</td>\n",
       "    </tr>\n",
       "  </tbody>\n",
       "</table>\n",
       "</div>"
      ],
      "text/plain": [
       "   customer_id  loc_long_coord  ...  std_amount  mean_nb_tx_per_day\n",
       "0            0       54.881350  ...   31.131260            2.179533\n",
       "1            1       42.365480  ...   23.285393            3.567092\n",
       "2            2       96.366276  ...   40.106939            2.115580\n",
       "3            3       56.804456  ...    5.874213            0.348517\n",
       "4            4        2.021840  ...   39.462446            3.480049\n",
       "\n",
       "[5 rows x 6 columns]"
      ]
     },
     "execution_count": 13,
     "metadata": {},
     "output_type": "execute_result"
    }
   ],
   "source": [
    "customer_df = generate_customer_profiles_table(n_customers=5)\n",
    "customer_df.head()"
   ]
  },
  {
   "cell_type": "code",
   "execution_count": 16,
   "metadata": {},
   "outputs": [],
   "source": [
    "assert len(customer_df) == 5\n",
    "assert all([col in customer_df.columns for col in [\"customer_id\", \"loc_long_coord\", \"loc_lat_coord\", \"mean_amount\", \"std_amount\", \"mean_nb_tx_per_day\"]])\n",
    "assert all([long >= 0 and long <= 100 for long in customer_df.loc_long_coord.values])\n",
    "assert all([lat >= 0 and lat <= 100 for lat in customer_df.loc_lat_coord.values])\n",
    "assert all([mean >= 5 and mean <= 100 for mean in customer_df.mean_amount.values])\n",
    "assert all([std >= 2.5 and std <= 50 for std in customer_df.std_amount.values])\n",
    "assert all([mean >= 0 and mean <= 4 for mean in customer_df.mean_nb_tx_per_day.values])"
   ]
  },
  {
   "cell_type": "markdown",
   "metadata": {},
   "source": [
    "## Step 2: Generate terminal profiles"
   ]
  },
  {
   "cell_type": "code",
   "execution_count": 7,
   "metadata": {},
   "outputs": [],
   "source": [
    "from src.data.generator import generate_terminal_profiles_table"
   ]
  },
  {
   "cell_type": "code",
   "execution_count": 9,
   "metadata": {},
   "outputs": [
    {
     "data": {
      "text/html": [
       "<div>\n",
       "<style scoped>\n",
       "    .dataframe tbody tr th:only-of-type {\n",
       "        vertical-align: middle;\n",
       "    }\n",
       "\n",
       "    .dataframe tbody tr th {\n",
       "        vertical-align: top;\n",
       "    }\n",
       "\n",
       "    .dataframe thead th {\n",
       "        text-align: right;\n",
       "    }\n",
       "</style>\n",
       "<table border=\"1\" class=\"dataframe\">\n",
       "  <thead>\n",
       "    <tr style=\"text-align: right;\">\n",
       "      <th></th>\n",
       "      <th>terminal_id</th>\n",
       "      <th>loc_long_coord</th>\n",
       "      <th>loc_lat_coord</th>\n",
       "    </tr>\n",
       "  </thead>\n",
       "  <tbody>\n",
       "    <tr>\n",
       "      <th>0</th>\n",
       "      <td>0</td>\n",
       "      <td>54.881350</td>\n",
       "      <td>71.518937</td>\n",
       "    </tr>\n",
       "    <tr>\n",
       "      <th>1</th>\n",
       "      <td>1</td>\n",
       "      <td>60.276338</td>\n",
       "      <td>54.488318</td>\n",
       "    </tr>\n",
       "    <tr>\n",
       "      <th>2</th>\n",
       "      <td>2</td>\n",
       "      <td>42.365480</td>\n",
       "      <td>64.589411</td>\n",
       "    </tr>\n",
       "    <tr>\n",
       "      <th>3</th>\n",
       "      <td>3</td>\n",
       "      <td>43.758721</td>\n",
       "      <td>89.177300</td>\n",
       "    </tr>\n",
       "    <tr>\n",
       "      <th>4</th>\n",
       "      <td>4</td>\n",
       "      <td>96.366276</td>\n",
       "      <td>38.344152</td>\n",
       "    </tr>\n",
       "  </tbody>\n",
       "</table>\n",
       "</div>"
      ],
      "text/plain": [
       "   terminal_id  loc_long_coord  loc_lat_coord\n",
       "0            0       54.881350      71.518937\n",
       "1            1       60.276338      54.488318\n",
       "2            2       42.365480      64.589411\n",
       "3            3       43.758721      89.177300\n",
       "4            4       96.366276      38.344152"
      ]
     },
     "execution_count": 9,
     "metadata": {},
     "output_type": "execute_result"
    }
   ],
   "source": [
    "terminal_df = generate_terminal_profiles_table(n_terminals=5)\n",
    "terminal_df.head()"
   ]
  },
  {
   "cell_type": "code",
   "execution_count": 17,
   "metadata": {},
   "outputs": [],
   "source": [
    "assert len(terminal_df) == 5\n",
    "assert all(col in terminal_df.columns for col in [\"terminal_id\", \"loc_long_coord\", \"loc_lat_coord\"])\n",
    "assert all([long >= 0 and long <= 100 for long in terminal_df[\"loc_long_coord\"]])\n",
    "assert all([lat >= 0 and lat <= 100 for lat in terminal_df[\"loc_lat_coord\"]])"
   ]
  },
  {
   "cell_type": "markdown",
   "metadata": {},
   "source": [
    "## Step 3: Association of customer profiles to terminals"
   ]
  },
  {
   "cell_type": "code",
   "execution_count": 18,
   "metadata": {},
   "outputs": [],
   "source": [
    "from src.data.generator import get_list_terminals_within_radius"
   ]
  },
  {
   "cell_type": "code",
   "execution_count": 23,
   "metadata": {},
   "outputs": [],
   "source": [
    "# We first get the geographical locations of all terminals as a numpy array\n",
    "x_y_terminals = terminal_df[['loc_long_coord','loc_lat_coord']].values.astype(float)\n",
    "# And get the list of terminals within radius of 50 for the last customer\n",
    "available_terminals = get_list_terminals_within_radius(customer_df.iloc[4], x_y_terminals=x_y_terminals, r=50)"
   ]
  },
  {
   "cell_type": "code",
   "execution_count": 24,
   "metadata": {},
   "outputs": [],
   "source": [
    "assert len(available_terminals) == 2\n",
    "assert all(term in available_terminals for term in [2, 3])"
   ]
  },
  {
   "cell_type": "code",
   "execution_count": 25,
   "metadata": {},
   "outputs": [],
   "source": [
    "customer_df['available_terminals']=customer_df.apply(lambda x : get_list_terminals_within_radius(x, x_y_terminals=x_y_terminals, r=50), axis=1)"
   ]
  },
  {
   "cell_type": "markdown",
   "metadata": {},
   "source": [
    "## Step 4: Generation of transactions"
   ]
  },
  {
   "cell_type": "code",
   "execution_count": 27,
   "metadata": {},
   "outputs": [],
   "source": [
    "from src.data.generator import generate_transactions_table"
   ]
  },
  {
   "cell_type": "code",
   "execution_count": 29,
   "metadata": {},
   "outputs": [
    {
     "data": {
      "text/html": [
       "<div>\n",
       "<style scoped>\n",
       "    .dataframe tbody tr th:only-of-type {\n",
       "        vertical-align: middle;\n",
       "    }\n",
       "\n",
       "    .dataframe tbody tr th {\n",
       "        vertical-align: top;\n",
       "    }\n",
       "\n",
       "    .dataframe thead th {\n",
       "        text-align: right;\n",
       "    }\n",
       "</style>\n",
       "<table border=\"1\" class=\"dataframe\">\n",
       "  <thead>\n",
       "    <tr style=\"text-align: right;\">\n",
       "      <th></th>\n",
       "      <th>tx_datetime</th>\n",
       "      <th>customer_id</th>\n",
       "      <th>terminal_id</th>\n",
       "      <th>tx_amount</th>\n",
       "      <th>tx_time_seconds</th>\n",
       "      <th>tx_time_days</th>\n",
       "    </tr>\n",
       "  </thead>\n",
       "  <tbody>\n",
       "    <tr>\n",
       "      <th>0</th>\n",
       "      <td>2018-04-01 07:19:05</td>\n",
       "      <td>0</td>\n",
       "      <td>3</td>\n",
       "      <td>123.59</td>\n",
       "      <td>26345</td>\n",
       "      <td>0</td>\n",
       "    </tr>\n",
       "    <tr>\n",
       "      <th>1</th>\n",
       "      <td>2018-04-01 19:02:02</td>\n",
       "      <td>0</td>\n",
       "      <td>3</td>\n",
       "      <td>46.51</td>\n",
       "      <td>68522</td>\n",
       "      <td>0</td>\n",
       "    </tr>\n",
       "    <tr>\n",
       "      <th>2</th>\n",
       "      <td>2018-04-01 18:00:16</td>\n",
       "      <td>0</td>\n",
       "      <td>0</td>\n",
       "      <td>77.34</td>\n",
       "      <td>64816</td>\n",
       "      <td>0</td>\n",
       "    </tr>\n",
       "    <tr>\n",
       "      <th>3</th>\n",
       "      <td>2018-04-02 15:13:02</td>\n",
       "      <td>0</td>\n",
       "      <td>2</td>\n",
       "      <td>32.35</td>\n",
       "      <td>141182</td>\n",
       "      <td>1</td>\n",
       "    </tr>\n",
       "    <tr>\n",
       "      <th>4</th>\n",
       "      <td>2018-04-02 14:05:38</td>\n",
       "      <td>0</td>\n",
       "      <td>3</td>\n",
       "      <td>63.30</td>\n",
       "      <td>137138</td>\n",
       "      <td>1</td>\n",
       "    </tr>\n",
       "  </tbody>\n",
       "</table>\n",
       "</div>"
      ],
      "text/plain": [
       "          tx_datetime  customer_id  ...  tx_time_seconds  tx_time_days\n",
       "0 2018-04-01 07:19:05            0  ...            26345             0\n",
       "1 2018-04-01 19:02:02            0  ...            68522             0\n",
       "2 2018-04-01 18:00:16            0  ...            64816             0\n",
       "3 2018-04-02 15:13:02            0  ...           141182             1\n",
       "4 2018-04-02 14:05:38            0  ...           137138             1\n",
       "\n",
       "[5 rows x 6 columns]"
      ]
     },
     "execution_count": 29,
     "metadata": {},
     "output_type": "execute_result"
    }
   ],
   "source": [
    "transaction_df=generate_transactions_table(customer_df.iloc[0], \n",
    "                                                         start_date = \"2018-04-01\", \n",
    "                                                         nb_days = 5)\n",
    "transaction_df.head()"
   ]
  },
  {
   "cell_type": "code",
   "execution_count": 32,
   "metadata": {},
   "outputs": [],
   "source": [
    "assert all(col in transaction_df.columns for col in [\"tx_time_seconds\", \"tx_time_days\", \"customer_id\", \"terminal_id\", \"tx_amount\"])\n",
    "assert all(amount >= 0 for amount in transaction_df.tx_amount.values)"
   ]
  },
  {
   "cell_type": "code",
   "execution_count": 33,
   "metadata": {},
   "outputs": [
    {
     "data": {
      "text/html": [
       "<div>\n",
       "<style scoped>\n",
       "    .dataframe tbody tr th:only-of-type {\n",
       "        vertical-align: middle;\n",
       "    }\n",
       "\n",
       "    .dataframe tbody tr th {\n",
       "        vertical-align: top;\n",
       "    }\n",
       "\n",
       "    .dataframe thead th {\n",
       "        text-align: right;\n",
       "    }\n",
       "</style>\n",
       "<table border=\"1\" class=\"dataframe\">\n",
       "  <thead>\n",
       "    <tr style=\"text-align: right;\">\n",
       "      <th></th>\n",
       "      <th>tx_datetime</th>\n",
       "      <th>customer_id</th>\n",
       "      <th>terminal_id</th>\n",
       "      <th>tx_amount</th>\n",
       "      <th>tx_time_seconds</th>\n",
       "      <th>tx_time_days</th>\n",
       "    </tr>\n",
       "  </thead>\n",
       "  <tbody>\n",
       "    <tr>\n",
       "      <th>0</th>\n",
       "      <td>2018-04-01 07:19:05</td>\n",
       "      <td>0</td>\n",
       "      <td>3</td>\n",
       "      <td>123.59</td>\n",
       "      <td>26345</td>\n",
       "      <td>0</td>\n",
       "    </tr>\n",
       "    <tr>\n",
       "      <th>1</th>\n",
       "      <td>2018-04-01 19:02:02</td>\n",
       "      <td>0</td>\n",
       "      <td>3</td>\n",
       "      <td>46.51</td>\n",
       "      <td>68522</td>\n",
       "      <td>0</td>\n",
       "    </tr>\n",
       "    <tr>\n",
       "      <th>2</th>\n",
       "      <td>2018-04-01 18:00:16</td>\n",
       "      <td>0</td>\n",
       "      <td>0</td>\n",
       "      <td>77.34</td>\n",
       "      <td>64816</td>\n",
       "      <td>0</td>\n",
       "    </tr>\n",
       "    <tr>\n",
       "      <th>3</th>\n",
       "      <td>2018-04-02 15:13:02</td>\n",
       "      <td>0</td>\n",
       "      <td>2</td>\n",
       "      <td>32.35</td>\n",
       "      <td>141182</td>\n",
       "      <td>1</td>\n",
       "    </tr>\n",
       "    <tr>\n",
       "      <th>4</th>\n",
       "      <td>2018-04-02 14:05:38</td>\n",
       "      <td>0</td>\n",
       "      <td>3</td>\n",
       "      <td>63.30</td>\n",
       "      <td>137138</td>\n",
       "      <td>1</td>\n",
       "    </tr>\n",
       "  </tbody>\n",
       "</table>\n",
       "</div>"
      ],
      "text/plain": [
       "          tx_datetime  customer_id  ...  tx_time_seconds  tx_time_days\n",
       "0 2018-04-01 07:19:05            0  ...            26345             0\n",
       "1 2018-04-01 19:02:02            0  ...            68522             0\n",
       "2 2018-04-01 18:00:16            0  ...            64816             0\n",
       "3 2018-04-02 15:13:02            0  ...           141182             1\n",
       "4 2018-04-02 14:05:38            0  ...           137138             1\n",
       "\n",
       "[5 rows x 6 columns]"
      ]
     },
     "execution_count": 33,
     "metadata": {},
     "output_type": "execute_result"
    }
   ],
   "source": [
    "transactions_df = customer_df.groupby('customer_id').apply(lambda x : generate_transactions_table(x.iloc[0], nb_days=5)).reset_index(drop=True)\n",
    "transactions_df.head()"
   ]
  },
  {
   "cell_type": "markdown",
   "metadata": {},
   "source": [
    "## Step 5: Generate a complete dataset"
   ]
  },
  {
   "cell_type": "code",
   "execution_count": 34,
   "metadata": {},
   "outputs": [],
   "source": [
    "from src.data.generator import generate_dataset"
   ]
  },
  {
   "cell_type": "code",
   "execution_count": 35,
   "metadata": {},
   "outputs": [
    {
     "name": "stdout",
     "output_type": "stream",
     "text": [
      "Time to generate customer profiles table: 0.00038s\n",
      "Time to generate terminal profiles table: 0.00023s\n",
      "Time to associate terminals to customers: 0.0027s\n",
      "Time to generate transactions: 0.011s\n"
     ]
    }
   ],
   "source": [
    "(customer_profiles_table, terminal_profiles_table, transactions_df)=\\\n",
    "    generate_dataset(n_customers=5, \n",
    "                     n_terminals=5, \n",
    "                     nb_days=5, \n",
    "                     start_date=\"2018-04-01\", \n",
    "                     r=50)"
   ]
  },
  {
   "cell_type": "code",
   "execution_count": 40,
   "metadata": {},
   "outputs": [],
   "source": [
    "gen_config = config[\"data\"][\"generator\"]"
   ]
  },
  {
   "cell_type": "code",
   "execution_count": 41,
   "metadata": {},
   "outputs": [
    {
     "name": "stdout",
     "output_type": "stream",
     "text": [
      "Time to generate customer profiles table: 0.036s\n",
      "Time to generate terminal profiles table: 0.027s\n",
      "Time to associate terminals to customers: 0.78s\n",
      "Time to generate transactions: 4.1e+01s\n"
     ]
    }
   ],
   "source": [
    "(customer_profiles_table, terminal_profiles_table, transactions_df)=\\\n",
    "    generate_dataset(n_customers=gen_config[\"num_customers\"],\n",
    "                     n_terminals=gen_config[\"num_terminals\"],\n",
    "                     nb_days=gen_config[\"num_days\"],\n",
    "                     start_date=gen_config[\"start_date\"],\n",
    "                     r=gen_config[\"customer_radius\"])"
   ]
  },
  {
   "cell_type": "markdown",
   "metadata": {},
   "source": [
    "## Step 6: Add fraudulent transactions"
   ]
  },
  {
   "cell_type": "markdown",
   "metadata": {},
   "source": [
    "This last step of the simulation adds fraudulent transactions to the dataset, using the following fraud scenarios:\n",
    "\n",
    "- **Scenario 1:** Any transaction whose amount is more than 220 is a fraud. This scenario is not inspired by a real-world scenario. Rather, it will provide an obvious fraud pattern that should be detected by any baseline fraud detector. This will be useful to validate the implementation of a fraud detection technique.\n",
    "\n",
    "- **Scenario 2:** Every day, a list of two terminals is drawn at random. All transactions on these terminals in the next 28 days will be marked as fraudulent. This scenario simulates a criminal use of a terminal, through phishing for example. Detecting this scenario will be possible by adding features that keep track of the number of fraudulent transactions on the terminal. Since the terminal is only compromised for 28 days, additional strategies that involve concept drift will need to be designed to efficiently deal with this scenario.\n",
    "\n",
    "- **Scenario 3:** Every day, a list of 3 customers is drawn at random. In the next 14 days, 1/3 of their transactions have their amounts multiplied by 5 and marked as fraudulent. This scenario simulates a card-not-present fraud where the credentials of a customer have been leaked. The customer continues to make transactions, and transactions of higher values are made by the fraudster who tries to maximize their gains. Detecting this scenario will require adding features that keep track of the spending habits of the customer. As for scenario 2, since the card is only temporarily compromised, additional strategies that involve concept drift should also be designed."
   ]
  },
  {
   "cell_type": "code",
   "execution_count": 42,
   "metadata": {},
   "outputs": [],
   "source": [
    "from src.data.generator import add_frauds"
   ]
  },
  {
   "cell_type": "code",
   "execution_count": 43,
   "metadata": {},
   "outputs": [
    {
     "name": "stdout",
     "output_type": "stream",
     "text": [
      "Number of frauds from scenario 1: 978\n",
      "Number of frauds from scenario 2: 9099\n",
      "Number of frauds from scenario 3: 4604\n",
      "CPU times: user 43.4 s, sys: 673 ms, total: 44 s\n",
      "Wall time: 44.1 s\n"
     ]
    }
   ],
   "source": [
    "transactions_df = add_frauds(customer_profiles_table, terminal_profiles_table, transactions_df)"
   ]
  },
  {
   "cell_type": "code",
   "execution_count": 44,
   "metadata": {},
   "outputs": [
    {
     "data": {
      "text/plain": [
       "0.008369271814634397"
      ]
     },
     "execution_count": 44,
     "metadata": {},
     "output_type": "execute_result"
    }
   ],
   "source": [
    "transactions_df.tx_fraud.mean()"
   ]
  },
  {
   "cell_type": "code",
   "execution_count": 45,
   "metadata": {},
   "outputs": [
    {
     "data": {
      "text/plain": [
       "14681"
      ]
     },
     "execution_count": 45,
     "metadata": {},
     "output_type": "execute_result"
    }
   ],
   "source": [
    "transactions_df.tx_fraud.sum()"
   ]
  },
  {
   "cell_type": "code",
   "execution_count": 47,
   "metadata": {},
   "outputs": [
    {
     "data": {
      "text/html": [
       "<div>\n",
       "<style scoped>\n",
       "    .dataframe tbody tr th:only-of-type {\n",
       "        vertical-align: middle;\n",
       "    }\n",
       "\n",
       "    .dataframe tbody tr th {\n",
       "        vertical-align: top;\n",
       "    }\n",
       "\n",
       "    .dataframe thead th {\n",
       "        text-align: right;\n",
       "    }\n",
       "</style>\n",
       "<table border=\"1\" class=\"dataframe\">\n",
       "  <thead>\n",
       "    <tr style=\"text-align: right;\">\n",
       "      <th></th>\n",
       "      <th>transaction_id</th>\n",
       "      <th>tx_datetime</th>\n",
       "      <th>customer_id</th>\n",
       "      <th>terminal_id</th>\n",
       "      <th>tx_amount</th>\n",
       "      <th>tx_time_seconds</th>\n",
       "      <th>tx_time_days</th>\n",
       "      <th>tx_fraud</th>\n",
       "      <th>tx_fraud_scenario</th>\n",
       "    </tr>\n",
       "  </thead>\n",
       "  <tbody>\n",
       "    <tr>\n",
       "      <th>0</th>\n",
       "      <td>0</td>\n",
       "      <td>2018-04-01 00:00:31</td>\n",
       "      <td>596</td>\n",
       "      <td>3156</td>\n",
       "      <td>57.16</td>\n",
       "      <td>31</td>\n",
       "      <td>0</td>\n",
       "      <td>0</td>\n",
       "      <td>0</td>\n",
       "    </tr>\n",
       "    <tr>\n",
       "      <th>1</th>\n",
       "      <td>1</td>\n",
       "      <td>2018-04-01 00:02:10</td>\n",
       "      <td>4961</td>\n",
       "      <td>3412</td>\n",
       "      <td>81.51</td>\n",
       "      <td>130</td>\n",
       "      <td>0</td>\n",
       "      <td>0</td>\n",
       "      <td>0</td>\n",
       "    </tr>\n",
       "    <tr>\n",
       "      <th>2</th>\n",
       "      <td>2</td>\n",
       "      <td>2018-04-01 00:07:56</td>\n",
       "      <td>2</td>\n",
       "      <td>1365</td>\n",
       "      <td>146.00</td>\n",
       "      <td>476</td>\n",
       "      <td>0</td>\n",
       "      <td>0</td>\n",
       "      <td>0</td>\n",
       "    </tr>\n",
       "    <tr>\n",
       "      <th>3</th>\n",
       "      <td>3</td>\n",
       "      <td>2018-04-01 00:09:29</td>\n",
       "      <td>4128</td>\n",
       "      <td>8737</td>\n",
       "      <td>64.49</td>\n",
       "      <td>569</td>\n",
       "      <td>0</td>\n",
       "      <td>0</td>\n",
       "      <td>0</td>\n",
       "    </tr>\n",
       "    <tr>\n",
       "      <th>4</th>\n",
       "      <td>4</td>\n",
       "      <td>2018-04-01 00:10:34</td>\n",
       "      <td>927</td>\n",
       "      <td>9906</td>\n",
       "      <td>50.99</td>\n",
       "      <td>634</td>\n",
       "      <td>0</td>\n",
       "      <td>0</td>\n",
       "      <td>0</td>\n",
       "    </tr>\n",
       "  </tbody>\n",
       "</table>\n",
       "</div>"
      ],
      "text/plain": [
       "   transaction_id         tx_datetime  ... tx_fraud tx_fraud_scenario\n",
       "0               0 2018-04-01 00:00:31  ...        0                 0\n",
       "1               1 2018-04-01 00:02:10  ...        0                 0\n",
       "2               2 2018-04-01 00:07:56  ...        0                 0\n",
       "3               3 2018-04-01 00:09:29  ...        0                 0\n",
       "4               4 2018-04-01 00:10:34  ...        0                 0\n",
       "\n",
       "[5 rows x 9 columns]"
      ]
     },
     "execution_count": 47,
     "metadata": {},
     "output_type": "execute_result"
    }
   ],
   "source": [
    "transactions_df.head()"
   ]
  },
  {
   "cell_type": "markdown",
   "metadata": {},
   "source": [
    "The resulting dataset is interesting: It features class imbalance (less than 1% of fraudulent transactions), a mix of numerical and categorical features, non-trivial relationships between features, and time-dependent fraud scenarios."
   ]
  },
  {
   "cell_type": "markdown",
   "metadata": {},
   "source": [
    "## Step 7: Store data"
   ]
  },
  {
   "cell_type": "code",
   "execution_count": 49,
   "metadata": {},
   "outputs": [],
   "source": [
    "DIR_OUTPUT = Path.cwd().parent / \"data/raw/\"\n",
    "DIR_OUTPUT.mkdir(parents=True, exist_ok=True)"
   ]
  },
  {
   "cell_type": "code",
   "execution_count": 52,
   "metadata": {},
   "outputs": [
    {
     "data": {
      "text/plain": [
       "'2023-02-01'"
      ]
     },
     "execution_count": 52,
     "metadata": {},
     "output_type": "execute_result"
    }
   ],
   "source": [
    "str(gen_config[\"start_date\"])"
   ]
  },
  {
   "cell_type": "code",
   "execution_count": 54,
   "metadata": {},
   "outputs": [],
   "source": [
    "import datetime\n",
    "\n",
    "start_date = datetime.datetime.strptime(str(gen_config[\"start_date\"]), \"%Y-%m-%d\")\n",
    "\n",
    "for day in range(transactions_df.tx_time_days.max()+1):\n",
    "    \n",
    "    transactions_day = transactions_df[transactions_df.tx_time_days==day].sort_values('tx_time_seconds')\n",
    "    \n",
    "    date = start_date + datetime.timedelta(days=day)\n",
    "    filename_output = date.strftime(\"%Y-%m-%d\")+'.pkl'\n",
    "    \n",
    "    transactions_day.to_pickle(DIR_OUTPUT / filename_output)"
   ]
  }
 ],
 "metadata": {
  "kernelspec": {
   "display_name": ".venv",
   "language": "python",
   "name": "python3"
  },
  "language_info": {
   "codemirror_mode": {
    "name": "ipython",
    "version": 3
   },
   "file_extension": ".py",
   "mimetype": "text/x-python",
   "name": "python",
   "nbconvert_exporter": "python",
   "pygments_lexer": "ipython3",
   "version": "3.10.3"
  },
  "orig_nbformat": 4
 },
 "nbformat": 4,
 "nbformat_minor": 2
}
