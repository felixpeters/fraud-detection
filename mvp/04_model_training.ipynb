{
 "cells": [
  {
   "attachments": {},
   "cell_type": "markdown",
   "metadata": {},
   "source": [
    "# Model training"
   ]
  },
  {
   "attachments": {},
   "cell_type": "markdown",
   "metadata": {},
   "source": [
    "**Inputs:**\n",
    "\n",
    "- Configuration file\n",
    "- Training data\n",
    "- Validation data\n",
    "\n",
    "**Steps:**\n",
    "\n",
    "- Load configuration\n",
    "- Load training data\n",
    "- Load validation data\n",
    "- Create model based on configuration\n",
    "- Train model on training data\n",
    "- Evaluate model on validation data\n",
    "\n",
    "**Outputs:**\n",
    "\n",
    "- Trained model\n",
    "- Validation metrics"
   ]
  },
  {
   "attachments": {},
   "cell_type": "markdown",
   "metadata": {},
   "source": [
    "## Setup"
   ]
  },
  {
   "cell_type": "code",
   "execution_count": 1,
   "metadata": {},
   "outputs": [],
   "source": [
    "%load_ext autoreload\n",
    "%autoreload 2"
   ]
  },
  {
   "cell_type": "code",
   "execution_count": 2,
   "metadata": {},
   "outputs": [
    {
     "data": {
      "text/plain": [
       "True"
      ]
     },
     "execution_count": 2,
     "metadata": {},
     "output_type": "execute_result"
    }
   ],
   "source": [
    "from pathlib import Path\n",
    "from dotenv import load_dotenv\n",
    "from src.utils import load_config\n",
    "\n",
    "config_path = Path.cwd() / \"config.yaml\"\n",
    "config = load_config(config_path)\n",
    "\n",
    "load_dotenv()"
   ]
  },
  {
   "cell_type": "markdown",
   "metadata": {},
   "source": [
    "## Load historical data"
   ]
  },
  {
   "cell_type": "code",
   "execution_count": 3,
   "metadata": {},
   "outputs": [],
   "source": [
    "data_dir = Path.cwd().parent / \"data\"\n",
    "feature_dir = data_dir / \"features\"\n",
    "\n",
    "assert data_dir.exists()\n",
    "assert feature_dir.exists()"
   ]
  },
  {
   "cell_type": "code",
   "execution_count": 4,
   "metadata": {},
   "outputs": [
    {
     "name": "stdout",
     "output_type": "stream",
     "text": [
      "(1754155, 23)\n"
     ]
    },
    {
     "data": {
      "text/html": [
       "<div>\n",
       "<style scoped>\n",
       "    .dataframe tbody tr th:only-of-type {\n",
       "        vertical-align: middle;\n",
       "    }\n",
       "\n",
       "    .dataframe tbody tr th {\n",
       "        vertical-align: top;\n",
       "    }\n",
       "\n",
       "    .dataframe thead th {\n",
       "        text-align: right;\n",
       "    }\n",
       "</style>\n",
       "<table border=\"1\" class=\"dataframe\">\n",
       "  <thead>\n",
       "    <tr style=\"text-align: right;\">\n",
       "      <th></th>\n",
       "      <th>transaction_id</th>\n",
       "      <th>tx_datetime</th>\n",
       "      <th>customer_id</th>\n",
       "      <th>terminal_id</th>\n",
       "      <th>tx_amount</th>\n",
       "      <th>tx_time_seconds</th>\n",
       "      <th>tx_time_days</th>\n",
       "      <th>tx_fraud</th>\n",
       "      <th>tx_fraud_scenario</th>\n",
       "      <th>tx_during_weekend</th>\n",
       "      <th>...</th>\n",
       "      <th>customer_id_nb_tx_7_day_window</th>\n",
       "      <th>customer_id_avg_amount_7_day_window</th>\n",
       "      <th>customer_id_nb_tx_30_day_window</th>\n",
       "      <th>customer_id_avg_amount_30_day_window</th>\n",
       "      <th>terminal_id_nb_tx_1_day_window</th>\n",
       "      <th>terminal_id_risk_1_day_window</th>\n",
       "      <th>terminal_id_nb_tx_7_day_window</th>\n",
       "      <th>terminal_id_risk_7_day_window</th>\n",
       "      <th>terminal_id_nb_tx_30_day_window</th>\n",
       "      <th>terminal_id_risk_30_day_window</th>\n",
       "    </tr>\n",
       "  </thead>\n",
       "  <tbody>\n",
       "    <tr>\n",
       "      <th>0</th>\n",
       "      <td>0</td>\n",
       "      <td>2023-02-01 00:00:31</td>\n",
       "      <td>596</td>\n",
       "      <td>3156</td>\n",
       "      <td>57.16</td>\n",
       "      <td>31</td>\n",
       "      <td>0</td>\n",
       "      <td>0</td>\n",
       "      <td>0</td>\n",
       "      <td>0</td>\n",
       "      <td>...</td>\n",
       "      <td>1.0</td>\n",
       "      <td>57.16</td>\n",
       "      <td>1.0</td>\n",
       "      <td>57.16</td>\n",
       "      <td>0.0</td>\n",
       "      <td>0.0</td>\n",
       "      <td>0.0</td>\n",
       "      <td>0.0</td>\n",
       "      <td>0.0</td>\n",
       "      <td>0.0</td>\n",
       "    </tr>\n",
       "    <tr>\n",
       "      <th>1</th>\n",
       "      <td>1</td>\n",
       "      <td>2023-02-01 00:02:10</td>\n",
       "      <td>4961</td>\n",
       "      <td>3412</td>\n",
       "      <td>81.51</td>\n",
       "      <td>130</td>\n",
       "      <td>0</td>\n",
       "      <td>0</td>\n",
       "      <td>0</td>\n",
       "      <td>0</td>\n",
       "      <td>...</td>\n",
       "      <td>1.0</td>\n",
       "      <td>81.51</td>\n",
       "      <td>1.0</td>\n",
       "      <td>81.51</td>\n",
       "      <td>0.0</td>\n",
       "      <td>0.0</td>\n",
       "      <td>0.0</td>\n",
       "      <td>0.0</td>\n",
       "      <td>0.0</td>\n",
       "      <td>0.0</td>\n",
       "    </tr>\n",
       "    <tr>\n",
       "      <th>2</th>\n",
       "      <td>2</td>\n",
       "      <td>2023-02-01 00:07:56</td>\n",
       "      <td>2</td>\n",
       "      <td>1365</td>\n",
       "      <td>146.00</td>\n",
       "      <td>476</td>\n",
       "      <td>0</td>\n",
       "      <td>0</td>\n",
       "      <td>0</td>\n",
       "      <td>0</td>\n",
       "      <td>...</td>\n",
       "      <td>1.0</td>\n",
       "      <td>146.00</td>\n",
       "      <td>1.0</td>\n",
       "      <td>146.00</td>\n",
       "      <td>0.0</td>\n",
       "      <td>0.0</td>\n",
       "      <td>0.0</td>\n",
       "      <td>0.0</td>\n",
       "      <td>0.0</td>\n",
       "      <td>0.0</td>\n",
       "    </tr>\n",
       "    <tr>\n",
       "      <th>3</th>\n",
       "      <td>3</td>\n",
       "      <td>2023-02-01 00:09:29</td>\n",
       "      <td>4128</td>\n",
       "      <td>8737</td>\n",
       "      <td>64.49</td>\n",
       "      <td>569</td>\n",
       "      <td>0</td>\n",
       "      <td>0</td>\n",
       "      <td>0</td>\n",
       "      <td>0</td>\n",
       "      <td>...</td>\n",
       "      <td>1.0</td>\n",
       "      <td>64.49</td>\n",
       "      <td>1.0</td>\n",
       "      <td>64.49</td>\n",
       "      <td>0.0</td>\n",
       "      <td>0.0</td>\n",
       "      <td>0.0</td>\n",
       "      <td>0.0</td>\n",
       "      <td>0.0</td>\n",
       "      <td>0.0</td>\n",
       "    </tr>\n",
       "    <tr>\n",
       "      <th>4</th>\n",
       "      <td>4</td>\n",
       "      <td>2023-02-01 00:10:34</td>\n",
       "      <td>927</td>\n",
       "      <td>9906</td>\n",
       "      <td>50.99</td>\n",
       "      <td>634</td>\n",
       "      <td>0</td>\n",
       "      <td>0</td>\n",
       "      <td>0</td>\n",
       "      <td>0</td>\n",
       "      <td>...</td>\n",
       "      <td>1.0</td>\n",
       "      <td>50.99</td>\n",
       "      <td>1.0</td>\n",
       "      <td>50.99</td>\n",
       "      <td>0.0</td>\n",
       "      <td>0.0</td>\n",
       "      <td>0.0</td>\n",
       "      <td>0.0</td>\n",
       "      <td>0.0</td>\n",
       "      <td>0.0</td>\n",
       "    </tr>\n",
       "  </tbody>\n",
       "</table>\n",
       "<p>5 rows × 23 columns</p>\n",
       "</div>"
      ],
      "text/plain": [
       "   transaction_id         tx_datetime  customer_id  terminal_id  tx_amount  \\\n",
       "0               0 2023-02-01 00:00:31          596         3156      57.16   \n",
       "1               1 2023-02-01 00:02:10         4961         3412      81.51   \n",
       "2               2 2023-02-01 00:07:56            2         1365     146.00   \n",
       "3               3 2023-02-01 00:09:29         4128         8737      64.49   \n",
       "4               4 2023-02-01 00:10:34          927         9906      50.99   \n",
       "\n",
       "   tx_time_seconds  tx_time_days  tx_fraud  tx_fraud_scenario  \\\n",
       "0               31             0         0                  0   \n",
       "1              130             0         0                  0   \n",
       "2              476             0         0                  0   \n",
       "3              569             0         0                  0   \n",
       "4              634             0         0                  0   \n",
       "\n",
       "   tx_during_weekend  ...  customer_id_nb_tx_7_day_window  \\\n",
       "0                  0  ...                             1.0   \n",
       "1                  0  ...                             1.0   \n",
       "2                  0  ...                             1.0   \n",
       "3                  0  ...                             1.0   \n",
       "4                  0  ...                             1.0   \n",
       "\n",
       "   customer_id_avg_amount_7_day_window  customer_id_nb_tx_30_day_window  \\\n",
       "0                                57.16                              1.0   \n",
       "1                                81.51                              1.0   \n",
       "2                               146.00                              1.0   \n",
       "3                                64.49                              1.0   \n",
       "4                                50.99                              1.0   \n",
       "\n",
       "   customer_id_avg_amount_30_day_window  terminal_id_nb_tx_1_day_window  \\\n",
       "0                                 57.16                             0.0   \n",
       "1                                 81.51                             0.0   \n",
       "2                                146.00                             0.0   \n",
       "3                                 64.49                             0.0   \n",
       "4                                 50.99                             0.0   \n",
       "\n",
       "   terminal_id_risk_1_day_window  terminal_id_nb_tx_7_day_window  \\\n",
       "0                            0.0                             0.0   \n",
       "1                            0.0                             0.0   \n",
       "2                            0.0                             0.0   \n",
       "3                            0.0                             0.0   \n",
       "4                            0.0                             0.0   \n",
       "\n",
       "   terminal_id_risk_7_day_window  terminal_id_nb_tx_30_day_window  \\\n",
       "0                            0.0                              0.0   \n",
       "1                            0.0                              0.0   \n",
       "2                            0.0                              0.0   \n",
       "3                            0.0                              0.0   \n",
       "4                            0.0                              0.0   \n",
       "\n",
       "   terminal_id_risk_30_day_window  \n",
       "0                             0.0  \n",
       "1                             0.0  \n",
       "2                             0.0  \n",
       "3                             0.0  \n",
       "4                             0.0  \n",
       "\n",
       "[5 rows x 23 columns]"
      ]
     },
     "execution_count": 4,
     "metadata": {},
     "output_type": "execute_result"
    }
   ],
   "source": [
    "import pandas as pd\n",
    "\n",
    "data = pd.read_csv(feature_dir / \"transactions.csv\")\n",
    "data.tx_datetime = pd.to_datetime(data.tx_datetime)\n",
    "print(data.shape)\n",
    "data.head()"
   ]
  },
  {
   "cell_type": "markdown",
   "metadata": {},
   "source": [
    "## Create train and test splits"
   ]
  },
  {
   "cell_type": "code",
   "execution_count": 5,
   "metadata": {},
   "outputs": [
    {
     "name": "stdout",
     "output_type": "stream",
     "text": [
      "total transactions in training set: 67203\n",
      "total transactions in test set: 57447\n",
      "fraudulent transactions in training set: 627\n",
      "fraudulent transactions in test set: 307\n"
     ]
    }
   ],
   "source": [
    "import datetime\n",
    "\n",
    "from src.data.split import get_train_test_set\n",
    "\n",
    "train_start_date_str = config[\"data\"][\"split\"][\"start_date_training\"]\n",
    "delta_train = config[\"data\"][\"split\"][\"delta_train\"]\n",
    "delta_delay = config[\"data\"][\"split\"][\"delta_delay\"]\n",
    "delta_test = config[\"data\"][\"split\"][\"delta_test\"]\n",
    "\n",
    "train_start_date = datetime.datetime.strptime(str(train_start_date_str), \"%Y-%m-%d\")\n",
    "\n",
    "train_df, test_df = get_train_test_set(data, train_start_date, delta_train=delta_train, delta_delay=delta_delay, delta_test=delta_test)\n",
    "\n",
    "print(\"total transactions in training set:\", len(train_df))\n",
    "print(\"total transactions in test set:\", len(test_df))\n",
    "print(\"fraudulent transactions in training set:\", len(train_df[train_df.tx_fraud == 1]))\n",
    "print(\"fraudulent transactions in test set:\", len(test_df[test_df.tx_fraud == 1]))"
   ]
  },
  {
   "cell_type": "markdown",
   "metadata": {},
   "source": [
    "## Extract features"
   ]
  },
  {
   "cell_type": "code",
   "execution_count": 6,
   "metadata": {},
   "outputs": [
    {
     "name": "stdout",
     "output_type": "stream",
     "text": [
      "['tx_amount', 'tx_during_weekend', 'tx_during_night', 'customer_id_nb_tx_1_day_window', 'customer_id_avg_amount_1_day_window', 'customer_id_nb_tx_7_day_window', 'customer_id_avg_amount_7_day_window', 'customer_id_nb_tx_30_day_window', 'customer_id_avg_amount_30_day_window', 'terminal_id_nb_tx_1_day_window', 'terminal_id_risk_1_day_window', 'terminal_id_nb_tx_7_day_window', 'terminal_id_risk_7_day_window', 'terminal_id_nb_tx_30_day_window', 'terminal_id_risk_30_day_window']\n",
      "tx_fraud\n"
     ]
    }
   ],
   "source": [
    "input_features = config[\"data\"][\"features\"][\"input_features\"]\n",
    "target_feature = config[\"data\"][\"features\"][\"output_feature\"]\n",
    "\n",
    "print(input_features)\n",
    "print(target_feature)"
   ]
  },
  {
   "cell_type": "markdown",
   "metadata": {},
   "source": [
    "## Train classifier"
   ]
  },
  {
   "cell_type": "code",
   "execution_count": 7,
   "metadata": {},
   "outputs": [],
   "source": [
    "from src.model import fit_model\n",
    "from sklearn.tree import DecisionTreeClassifier\n",
    "\n",
    "classifier = DecisionTreeClassifier(max_depth=2, random_state=0)\n",
    "\n",
    "results = fit_model(classifier, train_df, test_df, input_features, target_feature, scale=False)"
   ]
  },
  {
   "cell_type": "code",
   "execution_count": 8,
   "metadata": {},
   "outputs": [
    {
     "data": {
      "text/html": [
       "<div>\n",
       "<style scoped>\n",
       "    .dataframe tbody tr th:only-of-type {\n",
       "        vertical-align: middle;\n",
       "    }\n",
       "\n",
       "    .dataframe tbody tr th {\n",
       "        vertical-align: top;\n",
       "    }\n",
       "\n",
       "    .dataframe thead th {\n",
       "        text-align: right;\n",
       "    }\n",
       "</style>\n",
       "<table border=\"1\" class=\"dataframe\">\n",
       "  <thead>\n",
       "    <tr style=\"text-align: right;\">\n",
       "      <th></th>\n",
       "      <th>transaction_id</th>\n",
       "      <th>tx_datetime</th>\n",
       "      <th>customer_id</th>\n",
       "      <th>terminal_id</th>\n",
       "      <th>tx_amount</th>\n",
       "      <th>tx_time_seconds</th>\n",
       "      <th>tx_time_days</th>\n",
       "      <th>tx_fraud</th>\n",
       "      <th>tx_fraud_scenario</th>\n",
       "      <th>tx_during_weekend</th>\n",
       "      <th>...</th>\n",
       "      <th>customer_id_avg_amount_7_day_window</th>\n",
       "      <th>customer_id_nb_tx_30_day_window</th>\n",
       "      <th>customer_id_avg_amount_30_day_window</th>\n",
       "      <th>terminal_id_nb_tx_1_day_window</th>\n",
       "      <th>terminal_id_risk_1_day_window</th>\n",
       "      <th>terminal_id_nb_tx_7_day_window</th>\n",
       "      <th>terminal_id_risk_7_day_window</th>\n",
       "      <th>terminal_id_nb_tx_30_day_window</th>\n",
       "      <th>terminal_id_risk_30_day_window</th>\n",
       "      <th>tx_fraud_predicted</th>\n",
       "    </tr>\n",
       "  </thead>\n",
       "  <tbody>\n",
       "    <tr>\n",
       "      <th>1284710</th>\n",
       "      <td>1284710</td>\n",
       "      <td>2023-06-15 00:00:33</td>\n",
       "      <td>4643</td>\n",
       "      <td>391</td>\n",
       "      <td>26.28</td>\n",
       "      <td>11577633</td>\n",
       "      <td>134</td>\n",
       "      <td>0</td>\n",
       "      <td>0</td>\n",
       "      <td>0</td>\n",
       "      <td>...</td>\n",
       "      <td>24.118182</td>\n",
       "      <td>43.0</td>\n",
       "      <td>26.433721</td>\n",
       "      <td>1.0</td>\n",
       "      <td>0.0</td>\n",
       "      <td>4.0</td>\n",
       "      <td>0.0</td>\n",
       "      <td>16.0</td>\n",
       "      <td>0.0</td>\n",
       "      <td>0.003749</td>\n",
       "    </tr>\n",
       "    <tr>\n",
       "      <th>1284711</th>\n",
       "      <td>1284711</td>\n",
       "      <td>2023-06-15 00:01:00</td>\n",
       "      <td>3383</td>\n",
       "      <td>3948</td>\n",
       "      <td>57.50</td>\n",
       "      <td>11577660</td>\n",
       "      <td>134</td>\n",
       "      <td>0</td>\n",
       "      <td>0</td>\n",
       "      <td>0</td>\n",
       "      <td>...</td>\n",
       "      <td>65.233684</td>\n",
       "      <td>81.0</td>\n",
       "      <td>74.607407</td>\n",
       "      <td>1.0</td>\n",
       "      <td>0.0</td>\n",
       "      <td>9.0</td>\n",
       "      <td>0.0</td>\n",
       "      <td>40.0</td>\n",
       "      <td>0.0</td>\n",
       "      <td>0.003749</td>\n",
       "    </tr>\n",
       "    <tr>\n",
       "      <th>1284712</th>\n",
       "      <td>1284712</td>\n",
       "      <td>2023-06-15 00:01:03</td>\n",
       "      <td>1766</td>\n",
       "      <td>6503</td>\n",
       "      <td>47.52</td>\n",
       "      <td>11577663</td>\n",
       "      <td>134</td>\n",
       "      <td>0</td>\n",
       "      <td>0</td>\n",
       "      <td>0</td>\n",
       "      <td>...</td>\n",
       "      <td>48.628333</td>\n",
       "      <td>49.0</td>\n",
       "      <td>44.877347</td>\n",
       "      <td>1.0</td>\n",
       "      <td>0.0</td>\n",
       "      <td>6.0</td>\n",
       "      <td>0.0</td>\n",
       "      <td>27.0</td>\n",
       "      <td>0.0</td>\n",
       "      <td>0.003749</td>\n",
       "    </tr>\n",
       "    <tr>\n",
       "      <th>1284713</th>\n",
       "      <td>1284713</td>\n",
       "      <td>2023-06-15 00:01:30</td>\n",
       "      <td>1218</td>\n",
       "      <td>8150</td>\n",
       "      <td>20.96</td>\n",
       "      <td>11577690</td>\n",
       "      <td>134</td>\n",
       "      <td>0</td>\n",
       "      <td>0</td>\n",
       "      <td>0</td>\n",
       "      <td>...</td>\n",
       "      <td>21.417143</td>\n",
       "      <td>94.0</td>\n",
       "      <td>19.482234</td>\n",
       "      <td>0.0</td>\n",
       "      <td>0.0</td>\n",
       "      <td>4.0</td>\n",
       "      <td>0.0</td>\n",
       "      <td>22.0</td>\n",
       "      <td>0.0</td>\n",
       "      <td>0.003749</td>\n",
       "    </tr>\n",
       "    <tr>\n",
       "      <th>1284714</th>\n",
       "      <td>1284714</td>\n",
       "      <td>2023-06-15 00:03:59</td>\n",
       "      <td>2423</td>\n",
       "      <td>4018</td>\n",
       "      <td>4.65</td>\n",
       "      <td>11577839</td>\n",
       "      <td>134</td>\n",
       "      <td>0</td>\n",
       "      <td>0</td>\n",
       "      <td>0</td>\n",
       "      <td>...</td>\n",
       "      <td>7.397692</td>\n",
       "      <td>66.0</td>\n",
       "      <td>8.934091</td>\n",
       "      <td>0.0</td>\n",
       "      <td>0.0</td>\n",
       "      <td>14.0</td>\n",
       "      <td>0.0</td>\n",
       "      <td>62.0</td>\n",
       "      <td>0.0</td>\n",
       "      <td>0.003749</td>\n",
       "    </tr>\n",
       "  </tbody>\n",
       "</table>\n",
       "<p>5 rows × 24 columns</p>\n",
       "</div>"
      ],
      "text/plain": [
       "         transaction_id         tx_datetime  customer_id  terminal_id  \\\n",
       "1284710         1284710 2023-06-15 00:00:33         4643          391   \n",
       "1284711         1284711 2023-06-15 00:01:00         3383         3948   \n",
       "1284712         1284712 2023-06-15 00:01:03         1766         6503   \n",
       "1284713         1284713 2023-06-15 00:01:30         1218         8150   \n",
       "1284714         1284714 2023-06-15 00:03:59         2423         4018   \n",
       "\n",
       "         tx_amount  tx_time_seconds  tx_time_days  tx_fraud  \\\n",
       "1284710      26.28         11577633           134         0   \n",
       "1284711      57.50         11577660           134         0   \n",
       "1284712      47.52         11577663           134         0   \n",
       "1284713      20.96         11577690           134         0   \n",
       "1284714       4.65         11577839           134         0   \n",
       "\n",
       "         tx_fraud_scenario  tx_during_weekend  ...  \\\n",
       "1284710                  0                  0  ...   \n",
       "1284711                  0                  0  ...   \n",
       "1284712                  0                  0  ...   \n",
       "1284713                  0                  0  ...   \n",
       "1284714                  0                  0  ...   \n",
       "\n",
       "         customer_id_avg_amount_7_day_window  customer_id_nb_tx_30_day_window  \\\n",
       "1284710                            24.118182                             43.0   \n",
       "1284711                            65.233684                             81.0   \n",
       "1284712                            48.628333                             49.0   \n",
       "1284713                            21.417143                             94.0   \n",
       "1284714                             7.397692                             66.0   \n",
       "\n",
       "         customer_id_avg_amount_30_day_window  terminal_id_nb_tx_1_day_window  \\\n",
       "1284710                             26.433721                             1.0   \n",
       "1284711                             74.607407                             1.0   \n",
       "1284712                             44.877347                             1.0   \n",
       "1284713                             19.482234                             0.0   \n",
       "1284714                              8.934091                             0.0   \n",
       "\n",
       "         terminal_id_risk_1_day_window  terminal_id_nb_tx_7_day_window  \\\n",
       "1284710                            0.0                             4.0   \n",
       "1284711                            0.0                             9.0   \n",
       "1284712                            0.0                             6.0   \n",
       "1284713                            0.0                             4.0   \n",
       "1284714                            0.0                            14.0   \n",
       "\n",
       "         terminal_id_risk_7_day_window  terminal_id_nb_tx_30_day_window  \\\n",
       "1284710                            0.0                             16.0   \n",
       "1284711                            0.0                             40.0   \n",
       "1284712                            0.0                             27.0   \n",
       "1284713                            0.0                             22.0   \n",
       "1284714                            0.0                             62.0   \n",
       "\n",
       "         terminal_id_risk_30_day_window  tx_fraud_predicted  \n",
       "1284710                             0.0            0.003749  \n",
       "1284711                             0.0            0.003749  \n",
       "1284712                             0.0            0.003749  \n",
       "1284713                             0.0            0.003749  \n",
       "1284714                             0.0            0.003749  \n",
       "\n",
       "[5 rows x 24 columns]"
      ]
     },
     "execution_count": 8,
     "metadata": {},
     "output_type": "execute_result"
    }
   ],
   "source": [
    "test_df[\"tx_fraud_predicted\"] = results[\"predictions_test\"]\n",
    "test_df.head()"
   ]
  },
  {
   "cell_type": "markdown",
   "metadata": {},
   "source": [
    "## Calculate metrics"
   ]
  },
  {
   "cell_type": "code",
   "execution_count": 9,
   "metadata": {},
   "outputs": [
    {
     "name": "stdout",
     "output_type": "stream",
     "text": [
      "{'auc_roc': 0.771, 'average_precision': 0.415, 'card_precision@100': 0.199}\n"
     ]
    }
   ],
   "source": [
    "from src.metrics import evaluate_predictions\n",
    "\n",
    "predictions_df = test_df\n",
    "predictions_df[\"predictions\"] = results[\"predictions_test\"]\n",
    "\n",
    "evals = evaluate_predictions(predictions_df, target_feature, \"predictions\", top_k_list=[100])\n",
    "print(evals)"
   ]
  },
  {
   "cell_type": "markdown",
   "metadata": {},
   "source": [
    "## Store artifacts"
   ]
  },
  {
   "cell_type": "code",
   "execution_count": 10,
   "metadata": {},
   "outputs": [],
   "source": [
    "model_dir = data_dir / \"models\"\n",
    "model_dir.mkdir(exist_ok=True, parents=True)"
   ]
  },
  {
   "cell_type": "code",
   "execution_count": 11,
   "metadata": {},
   "outputs": [],
   "source": [
    "train_set_fp = model_dir / \"train_set.csv\"\n",
    "test_set_fp = model_dir / \"test_set.csv\"\n",
    "model_fp = model_dir / \"model.joblib\""
   ]
  },
  {
   "cell_type": "code",
   "execution_count": 12,
   "metadata": {},
   "outputs": [
    {
     "data": {
      "text/plain": [
       "['/Users/fpe/code/personal/fraud-detection/data/models/model.joblib']"
      ]
     },
     "execution_count": 12,
     "metadata": {},
     "output_type": "execute_result"
    }
   ],
   "source": [
    "train_df.to_csv(train_set_fp, index=False)\n",
    "test_df.to_csv(test_set_fp, index=False)\n",
    "\n",
    "import joblib\n",
    "\n",
    "joblib.dump(results[\"classifier\"], model_fp)"
   ]
  },
  {
   "cell_type": "markdown",
   "metadata": {},
   "source": [
    "## Track artifacts in MLOps platform"
   ]
  },
  {
   "cell_type": "code",
   "execution_count": 13,
   "metadata": {},
   "outputs": [],
   "source": [
    "import wandb"
   ]
  },
  {
   "cell_type": "code",
   "execution_count": 14,
   "metadata": {},
   "outputs": [
    {
     "name": "stderr",
     "output_type": "stream",
     "text": [
      "Failed to detect the name of this notebook, you can set it manually with the WANDB_NOTEBOOK_NAME environment variable to enable code saving.\n",
      "\u001b[34m\u001b[1mwandb\u001b[0m: Currently logged in as: \u001b[33mfelixpeters\u001b[0m. Use \u001b[1m`wandb login --relogin`\u001b[0m to force relogin\n"
     ]
    },
    {
     "data": {
      "text/html": [
       "Tracking run with wandb version 0.15.8"
      ],
      "text/plain": [
       "<IPython.core.display.HTML object>"
      ]
     },
     "metadata": {},
     "output_type": "display_data"
    },
    {
     "data": {
      "text/html": [
       "Run data is saved locally in <code>/Users/fpe/code/personal/fraud-detection/mvp/wandb/run-20230824_150557-yzko6wi9</code>"
      ],
      "text/plain": [
       "<IPython.core.display.HTML object>"
      ]
     },
     "metadata": {},
     "output_type": "display_data"
    },
    {
     "data": {
      "text/html": [
       "Syncing run <strong><a href='https://wandb.ai/felixpeters/fraud-detection/runs/yzko6wi9' target=\"_blank\">blooming-glitter-10</a></strong> to <a href='https://wandb.ai/felixpeters/fraud-detection' target=\"_blank\">Weights & Biases</a> (<a href='https://wandb.me/run' target=\"_blank\">docs</a>)<br/>"
      ],
      "text/plain": [
       "<IPython.core.display.HTML object>"
      ]
     },
     "metadata": {},
     "output_type": "display_data"
    },
    {
     "data": {
      "text/html": [
       " View project at <a href='https://wandb.ai/felixpeters/fraud-detection' target=\"_blank\">https://wandb.ai/felixpeters/fraud-detection</a>"
      ],
      "text/plain": [
       "<IPython.core.display.HTML object>"
      ]
     },
     "metadata": {},
     "output_type": "display_data"
    },
    {
     "data": {
      "text/html": [
       " View run at <a href='https://wandb.ai/felixpeters/fraud-detection/runs/yzko6wi9' target=\"_blank\">https://wandb.ai/felixpeters/fraud-detection/runs/yzko6wi9</a>"
      ],
      "text/plain": [
       "<IPython.core.display.HTML object>"
      ]
     },
     "metadata": {},
     "output_type": "display_data"
    }
   ],
   "source": [
    "run = wandb.init(project=\"fraud-detection\", job_type=\"model_training\")"
   ]
  },
  {
   "cell_type": "code",
   "execution_count": 15,
   "metadata": {},
   "outputs": [
    {
     "data": {
      "text/plain": [
       "<Artifact QXJ0aWZhY3Q6NTQ5OTY2MDQx>"
      ]
     },
     "execution_count": 15,
     "metadata": {},
     "output_type": "execute_result"
    }
   ],
   "source": [
    "run.use_artifact('felixpeters/fraud-detection/features:v0', type='dataset')"
   ]
  },
  {
   "cell_type": "code",
   "execution_count": 16,
   "metadata": {},
   "outputs": [
    {
     "data": {
      "text/plain": [
       "<Artifact training_set>"
      ]
     },
     "execution_count": 16,
     "metadata": {},
     "output_type": "execute_result"
    }
   ],
   "source": [
    "train_set_artifact = wandb.Artifact(\"training_set\", type=\"dataset\")\n",
    "train_set_artifact.add_file(str(train_set_fp))\n",
    "run.log_artifact(train_set_artifact)"
   ]
  },
  {
   "cell_type": "code",
   "execution_count": 17,
   "metadata": {},
   "outputs": [
    {
     "data": {
      "text/plain": [
       "<Artifact test_set>"
      ]
     },
     "execution_count": 17,
     "metadata": {},
     "output_type": "execute_result"
    }
   ],
   "source": [
    "test_set_artifact = wandb.Artifact(\"test_set\", type=\"dataset\")\n",
    "test_set_artifact.add_file(str(test_set_fp))\n",
    "run.log_artifact(test_set_artifact)"
   ]
  },
  {
   "cell_type": "code",
   "execution_count": 18,
   "metadata": {},
   "outputs": [
    {
     "data": {
      "text/plain": [
       "<Artifact model>"
      ]
     },
     "execution_count": 18,
     "metadata": {},
     "output_type": "execute_result"
    }
   ],
   "source": [
    "model_artifact = wandb.Artifact(\"model\", type=\"model\")\n",
    "model_artifact.add_file(str(model_fp))\n",
    "run.log_artifact(model_artifact)"
   ]
  },
  {
   "cell_type": "code",
   "execution_count": 19,
   "metadata": {},
   "outputs": [],
   "source": [
    "run.log({\n",
    "    \"auc_roc\": evals[\"auc_roc\"],\n",
    "    \"average_precision\": evals[\"average_precision\"],\n",
    "    \"card_precision@100\": evals[\"card_precision@100\"],\n",
    "})"
   ]
  },
  {
   "cell_type": "code",
   "execution_count": 20,
   "metadata": {},
   "outputs": [
    {
     "data": {
      "text/html": [
       "Waiting for W&B process to finish... <strong style=\"color:green\">(success).</strong>"
      ],
      "text/plain": [
       "<IPython.core.display.HTML object>"
      ]
     },
     "metadata": {},
     "output_type": "display_data"
    },
    {
     "name": "stderr",
     "output_type": "stream",
     "text": [
      "wandb: WARNING Source type is set to 'repo' but some required information is missing from the environment. A job will not be created from this run. See https://docs.wandb.ai/guides/launch/create-job\n"
     ]
    },
    {
     "data": {
      "text/html": [
       "<style>\n",
       "    table.wandb td:nth-child(1) { padding: 0 10px; text-align: left ; width: auto;} td:nth-child(2) {text-align: left ; width: 100%}\n",
       "    .wandb-row { display: flex; flex-direction: row; flex-wrap: wrap; justify-content: flex-start; width: 100% }\n",
       "    .wandb-col { display: flex; flex-direction: column; flex-basis: 100%; flex: 1; padding: 10px; }\n",
       "    </style>\n",
       "<div class=\"wandb-row\"><div class=\"wandb-col\"><h3>Run history:</h3><br/><table class=\"wandb\"><tr><td>auc_roc</td><td>▁</td></tr><tr><td>average_precision</td><td>▁</td></tr><tr><td>card_precision@100</td><td>▁</td></tr></table><br/></div><div class=\"wandb-col\"><h3>Run summary:</h3><br/><table class=\"wandb\"><tr><td>auc_roc</td><td>0.771</td></tr><tr><td>average_precision</td><td>0.415</td></tr><tr><td>card_precision@100</td><td>0.199</td></tr></table><br/></div></div>"
      ],
      "text/plain": [
       "<IPython.core.display.HTML object>"
      ]
     },
     "metadata": {},
     "output_type": "display_data"
    },
    {
     "data": {
      "text/html": [
       " View run <strong style=\"color:#cdcd00\">blooming-glitter-10</strong> at: <a href='https://wandb.ai/felixpeters/fraud-detection/runs/yzko6wi9' target=\"_blank\">https://wandb.ai/felixpeters/fraud-detection/runs/yzko6wi9</a><br/>Synced 4 W&B file(s), 0 media file(s), 3 artifact file(s) and 0 other file(s)"
      ],
      "text/plain": [
       "<IPython.core.display.HTML object>"
      ]
     },
     "metadata": {},
     "output_type": "display_data"
    },
    {
     "data": {
      "text/html": [
       "Find logs at: <code>./wandb/run-20230824_150557-yzko6wi9/logs</code>"
      ],
      "text/plain": [
       "<IPython.core.display.HTML object>"
      ]
     },
     "metadata": {},
     "output_type": "display_data"
    }
   ],
   "source": [
    "run.finish()"
   ]
  },
  {
   "cell_type": "code",
   "execution_count": null,
   "metadata": {},
   "outputs": [],
   "source": []
  }
 ],
 "metadata": {
  "kernelspec": {
   "display_name": ".venv",
   "language": "python",
   "name": "python3"
  },
  "language_info": {
   "codemirror_mode": {
    "name": "ipython",
    "version": 3
   },
   "file_extension": ".py",
   "mimetype": "text/x-python",
   "name": "python",
   "nbconvert_exporter": "python",
   "pygments_lexer": "ipython3",
   "version": "3.10.12"
  },
  "orig_nbformat": 4
 },
 "nbformat": 4,
 "nbformat_minor": 2
}
