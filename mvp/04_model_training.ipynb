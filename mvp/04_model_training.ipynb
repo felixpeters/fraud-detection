{
 "cells": [
  {
   "attachments": {},
   "cell_type": "markdown",
   "metadata": {},
   "source": [
    "# Model training"
   ]
  },
  {
   "attachments": {},
   "cell_type": "markdown",
   "metadata": {},
   "source": [
    "**Inputs:**\n",
    "\n",
    "- Configuration file\n",
    "- Training data\n",
    "- Validation data\n",
    "\n",
    "**Steps:**\n",
    "\n",
    "- Load configuration\n",
    "- Load training data\n",
    "- Load validation data\n",
    "- Create model based on configuration\n",
    "- Train model on training data\n",
    "- Evaluate model on validation data\n",
    "\n",
    "**Outputs:**\n",
    "\n",
    "- Trained model\n",
    "- Validation metrics"
   ]
  },
  {
   "attachments": {},
   "cell_type": "markdown",
   "metadata": {},
   "source": []
  }
 ],
 "metadata": {
  "language_info": {
   "name": "python"
  },
  "orig_nbformat": 4
 },
 "nbformat": 4,
 "nbformat_minor": 2
}
