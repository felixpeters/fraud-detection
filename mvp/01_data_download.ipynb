{
 "cells": [
  {
   "attachments": {},
   "cell_type": "markdown",
   "metadata": {},
   "source": [
    "# Data download"
   ]
  },
  {
   "attachments": {},
   "cell_type": "markdown",
   "metadata": {},
   "source": [
    "**Inputs:**\n",
    "\n",
    "- Configuration file\n",
    "\n",
    "**Steps:**\n",
    "\n",
    "- Load configuration file\n",
    "- Download data from source\n",
    "- Transform into desired format\n",
    "- Store data\n",
    "\n",
    "**Outputs:**\n",
    "\n",
    "- Raw data"
   ]
  },
  {
   "attachments": {},
   "cell_type": "markdown",
   "metadata": {},
   "source": []
  }
 ],
 "metadata": {
  "language_info": {
   "name": "python"
  },
  "orig_nbformat": 4
 },
 "nbformat": 4,
 "nbformat_minor": 2
}
