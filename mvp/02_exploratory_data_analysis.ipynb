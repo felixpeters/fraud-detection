{
 "cells": [
  {
   "attachments": {},
   "cell_type": "markdown",
   "metadata": {},
   "source": [
    "# Exploratory data analysis"
   ]
  },
  {
   "attachments": {},
   "cell_type": "markdown",
   "metadata": {},
   "source": [
    "**Inputs:**\n",
    "\n",
    "- Configuration file\n",
    "- Raw data\n",
    "\n",
    "**Steps:**\n",
    "\n",
    "- Load configuration\n",
    "- Load raw data\n",
    "- Create summary statistics\n",
    "- Create plots\n",
    "\n",
    "**Outputs:**\n",
    "\n",
    "- Summary statistics\n",
    "- Plots"
   ]
  },
  {
   "attachments": {},
   "cell_type": "markdown",
   "metadata": {},
   "source": []
  }
 ],
 "metadata": {
  "language_info": {
   "name": "python"
  },
  "orig_nbformat": 4
 },
 "nbformat": 4,
 "nbformat_minor": 2
}
