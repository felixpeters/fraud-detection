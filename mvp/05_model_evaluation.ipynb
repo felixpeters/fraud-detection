{
 "cells": [
  {
   "attachments": {},
   "cell_type": "markdown",
   "metadata": {},
   "source": [
    "# Model evaluation"
   ]
  },
  {
   "attachments": {},
   "cell_type": "markdown",
   "metadata": {},
   "source": [
    "**Inputs:**\n",
    "\n",
    "- Configuration file\n",
    "- Test data\n",
    "- Trained model\n",
    "\n",
    "**Steps:**\n",
    "\n",
    "- Load configuration\n",
    "- Load test data\n",
    "- Load current model\n",
    "- Calculate evaluation metrics\n",
    "- Perform error analysis\n",
    "\n",
    "**Outputs:**\n",
    "\n",
    "- Test metrics\n",
    "- Error analysis plots"
   ]
  },
  {
   "cell_type": "code",
   "execution_count": null,
   "metadata": {},
   "outputs": [],
   "source": []
  }
 ],
 "metadata": {
  "language_info": {
   "name": "python"
  },
  "orig_nbformat": 4
 },
 "nbformat": 4,
 "nbformat_minor": 2
}
